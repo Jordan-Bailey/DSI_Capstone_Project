{
 "cells": [
  {
   "cell_type": "code",
   "execution_count": 467,
   "metadata": {},
   "outputs": [],
   "source": [
    "import json\n",
    "import csv\n",
    "import pandas as pd\n",
    "import matplotlib.pyplot as plt\n",
    "import numpy as np\n",
    "import scipy.stats as stats\n",
    "import seaborn as sns\n",
    "\n",
    "from sklearn.model_selection import train_test_split, GridSearchCV\n",
    "from sklearn.preprocessing import StandardScaler\n",
    "from sklearn.linear_model import LinearRegression, LogisticRegressionCV, SGDClassifier\n",
    "from sklearn.ensemble.forest import RandomForestRegressor, RandomForestClassifier\n",
    "from sklearn.feature_selection import SelectFromModel, VarianceThreshold, chi2, f_classif\n",
    "from sklearn.decomposition import PCA, TruncatedSVD\n",
    "from sklearn.svm import LinearSVC\n",
    "from sklearn.neighbors import KNeighborsClassifier\n",
    "from sklearn.pipeline import Pipeline\n",
    "from sklearn.model_selection import TimeSeriesSplit\n",
    "\n",
    "%matplotlib inline"
   ]
  },
  {
   "cell_type": "code",
   "execution_count": 2,
   "metadata": {},
   "outputs": [],
   "source": [
    "np.random.seed(42)"
   ]
  },
  {
   "cell_type": "code",
   "execution_count": 3,
   "metadata": {},
   "outputs": [],
   "source": [
    "df = pd.read_csv('cleaned_games_dataset.csv', index_col='Unnamed: 0')"
   ]
  },
  {
   "cell_type": "code",
   "execution_count": 4,
   "metadata": {},
   "outputs": [
    {
     "data": {
      "text/html": [
       "<div>\n",
       "<style scoped>\n",
       "    .dataframe tbody tr th:only-of-type {\n",
       "        vertical-align: middle;\n",
       "    }\n",
       "\n",
       "    .dataframe tbody tr th {\n",
       "        vertical-align: top;\n",
       "    }\n",
       "\n",
       "    .dataframe thead th {\n",
       "        text-align: right;\n",
       "    }\n",
       "</style>\n",
       "<table border=\"1\" class=\"dataframe\">\n",
       "  <thead>\n",
       "    <tr style=\"text-align: right;\">\n",
       "      <th></th>\n",
       "      <th>fg_1_1</th>\n",
       "      <th>fga_1_1</th>\n",
       "      <th>fg%_1_1</th>\n",
       "      <th>3p_1_1</th>\n",
       "      <th>3pa_1_1</th>\n",
       "      <th>3p%_1_1</th>\n",
       "      <th>ft_1_1</th>\n",
       "      <th>fta_1_1</th>\n",
       "      <th>ft%_1_1</th>\n",
       "      <th>orb_1_1</th>\n",
       "      <th>...</th>\n",
       "      <th>pts_2_3_opp</th>\n",
       "      <th>home_2_3_opp</th>\n",
       "      <th>betting_line_2_3_opp</th>\n",
       "      <th>off_rating_1_3_opp</th>\n",
       "      <th>off_rating_2_3_opp</th>\n",
       "      <th>over_under_3_opp</th>\n",
       "      <th>game_total_score_3_opp</th>\n",
       "      <th>days_1_back_opp</th>\n",
       "      <th>days_2_back_opp</th>\n",
       "      <th>days_3_back_opp</th>\n",
       "    </tr>\n",
       "  </thead>\n",
       "  <tbody>\n",
       "    <tr>\n",
       "      <th>1</th>\n",
       "      <td>31</td>\n",
       "      <td>78</td>\n",
       "      <td>0.397</td>\n",
       "      <td>7</td>\n",
       "      <td>23</td>\n",
       "      <td>0.304</td>\n",
       "      <td>28</td>\n",
       "      <td>38</td>\n",
       "      <td>0.737</td>\n",
       "      <td>18</td>\n",
       "      <td>...</td>\n",
       "      <td>114</td>\n",
       "      <td>1</td>\n",
       "      <td>9.5</td>\n",
       "      <td>110.75</td>\n",
       "      <td>114.78</td>\n",
       "      <td>195.0</td>\n",
       "      <td>224</td>\n",
       "      <td>2</td>\n",
       "      <td>2</td>\n",
       "      <td>2</td>\n",
       "    </tr>\n",
       "    <tr>\n",
       "      <th>2</th>\n",
       "      <td>37</td>\n",
       "      <td>70</td>\n",
       "      <td>0.529</td>\n",
       "      <td>11</td>\n",
       "      <td>27</td>\n",
       "      <td>0.407</td>\n",
       "      <td>18</td>\n",
       "      <td>27</td>\n",
       "      <td>0.667</td>\n",
       "      <td>8</td>\n",
       "      <td>...</td>\n",
       "      <td>87</td>\n",
       "      <td>0</td>\n",
       "      <td>8.0</td>\n",
       "      <td>101.62</td>\n",
       "      <td>95.06</td>\n",
       "      <td>189.5</td>\n",
       "      <td>180</td>\n",
       "      <td>3</td>\n",
       "      <td>1</td>\n",
       "      <td>2</td>\n",
       "    </tr>\n",
       "    <tr>\n",
       "      <th>5</th>\n",
       "      <td>31</td>\n",
       "      <td>72</td>\n",
       "      <td>0.431</td>\n",
       "      <td>6</td>\n",
       "      <td>21</td>\n",
       "      <td>0.286</td>\n",
       "      <td>27</td>\n",
       "      <td>33</td>\n",
       "      <td>0.818</td>\n",
       "      <td>13</td>\n",
       "      <td>...</td>\n",
       "      <td>84</td>\n",
       "      <td>0</td>\n",
       "      <td>-3.5</td>\n",
       "      <td>94.13</td>\n",
       "      <td>87.86</td>\n",
       "      <td>188.0</td>\n",
       "      <td>174</td>\n",
       "      <td>1</td>\n",
       "      <td>3</td>\n",
       "      <td>1</td>\n",
       "    </tr>\n",
       "    <tr>\n",
       "      <th>6</th>\n",
       "      <td>30</td>\n",
       "      <td>71</td>\n",
       "      <td>0.423</td>\n",
       "      <td>8</td>\n",
       "      <td>21</td>\n",
       "      <td>0.381</td>\n",
       "      <td>34</td>\n",
       "      <td>42</td>\n",
       "      <td>0.810</td>\n",
       "      <td>16</td>\n",
       "      <td>...</td>\n",
       "      <td>102</td>\n",
       "      <td>1</td>\n",
       "      <td>-3.5</td>\n",
       "      <td>101.45</td>\n",
       "      <td>108.92</td>\n",
       "      <td>195.0</td>\n",
       "      <td>197</td>\n",
       "      <td>1</td>\n",
       "      <td>3</td>\n",
       "      <td>1</td>\n",
       "    </tr>\n",
       "    <tr>\n",
       "      <th>9</th>\n",
       "      <td>35</td>\n",
       "      <td>79</td>\n",
       "      <td>0.443</td>\n",
       "      <td>7</td>\n",
       "      <td>16</td>\n",
       "      <td>0.438</td>\n",
       "      <td>13</td>\n",
       "      <td>15</td>\n",
       "      <td>0.867</td>\n",
       "      <td>11</td>\n",
       "      <td>...</td>\n",
       "      <td>74</td>\n",
       "      <td>0</td>\n",
       "      <td>8.0</td>\n",
       "      <td>93.25</td>\n",
       "      <td>77.54</td>\n",
       "      <td>188.0</td>\n",
       "      <td>163</td>\n",
       "      <td>2</td>\n",
       "      <td>1</td>\n",
       "      <td>3</td>\n",
       "    </tr>\n",
       "  </tbody>\n",
       "</table>\n",
       "<p>5 rows × 278 columns</p>\n",
       "</div>"
      ],
      "text/plain": [
       "   fg_1_1  fga_1_1  fg%_1_1  3p_1_1  3pa_1_1  3p%_1_1  ft_1_1  fta_1_1  \\\n",
       "1      31       78    0.397       7       23    0.304      28       38   \n",
       "2      37       70    0.529      11       27    0.407      18       27   \n",
       "5      31       72    0.431       6       21    0.286      27       33   \n",
       "6      30       71    0.423       8       21    0.381      34       42   \n",
       "9      35       79    0.443       7       16    0.438      13       15   \n",
       "\n",
       "   ft%_1_1  orb_1_1       ...         pts_2_3_opp  home_2_3_opp  \\\n",
       "1    0.737       18       ...                 114             1   \n",
       "2    0.667        8       ...                  87             0   \n",
       "5    0.818       13       ...                  84             0   \n",
       "6    0.810       16       ...                 102             1   \n",
       "9    0.867       11       ...                  74             0   \n",
       "\n",
       "   betting_line_2_3_opp  off_rating_1_3_opp  off_rating_2_3_opp  \\\n",
       "1                   9.5              110.75              114.78   \n",
       "2                   8.0              101.62               95.06   \n",
       "5                  -3.5               94.13               87.86   \n",
       "6                  -3.5              101.45              108.92   \n",
       "9                   8.0               93.25               77.54   \n",
       "\n",
       "   over_under_3_opp  game_total_score_3_opp  days_1_back_opp  days_2_back_opp  \\\n",
       "1             195.0                     224                2                2   \n",
       "2             189.5                     180                3                1   \n",
       "5             188.0                     174                1                3   \n",
       "6             195.0                     197                1                3   \n",
       "9             188.0                     163                2                1   \n",
       "\n",
       "   days_3_back_opp  \n",
       "1                2  \n",
       "2                2  \n",
       "5                1  \n",
       "6                1  \n",
       "9                3  \n",
       "\n",
       "[5 rows x 278 columns]"
      ]
     },
     "execution_count": 4,
     "metadata": {},
     "output_type": "execute_result"
    }
   ],
   "source": [
    "df.head()"
   ]
  },
  {
   "cell_type": "code",
   "execution_count": 5,
   "metadata": {},
   "outputs": [],
   "source": [
    "df.drop(['gid_today', 'game_total_score'], axis=1, inplace=True)"
   ]
  },
  {
   "cell_type": "markdown",
   "metadata": {},
   "source": [
    "I split my predicted feature into two sets, one set where I will try to fit a model to accurately predict over bets, and the same set, but with a model that will try to predict under bets."
   ]
  },
  {
   "cell_type": "code",
   "execution_count": 6,
   "metadata": {},
   "outputs": [],
   "source": [
    "X = df[[x for x in df.columns if x != 'bet_won_over' and x != 'bet_won_under']]\n",
    "y_over = df[['bet_won_over', 'game_date']]\n",
    "y_under = df[['bet_won_under', 'game_date']]"
   ]
  },
  {
   "cell_type": "markdown",
   "metadata": {},
   "source": [
    "To split my data, I will have the first 4 seasons (2014-2017) be the set data I use to train my models, and the 2018 season be the testing data that I will score my model on."
   ]
  },
  {
   "cell_type": "code",
   "execution_count": 7,
   "metadata": {},
   "outputs": [],
   "source": [
    "X_train = X[X['game_date'] < '2017-09-01']\n",
    "X_test = X[X['game_date'] > '2017-09-01']\n",
    "\n",
    "y_train_over = y_over[y_over['game_date'] < '2017-09-01']\n",
    "y_train_under = y_under[y_under['game_date'] < '2017-09-01']\n",
    "y_test_over = y_over[y_over['game_date'] > '2017-09-01']\n",
    "y_test_under = y_under[y_under['game_date'] > '2017-09-01']\n"
   ]
  },
  {
   "cell_type": "code",
   "execution_count": 8,
   "metadata": {
    "scrolled": true
   },
   "outputs": [
    {
     "name": "stderr",
     "output_type": "stream",
     "text": [
      "/Users/jordanbailey/anaconda3/lib/python3.6/site-packages/ipykernel_launcher.py:1: SettingWithCopyWarning: \n",
      "A value is trying to be set on a copy of a slice from a DataFrame\n",
      "\n",
      "See the caveats in the documentation: http://pandas.pydata.org/pandas-docs/stable/indexing.html#indexing-view-versus-copy\n",
      "  \"\"\"Entry point for launching an IPython kernel.\n",
      "/Users/jordanbailey/anaconda3/lib/python3.6/site-packages/ipykernel_launcher.py:2: SettingWithCopyWarning: \n",
      "A value is trying to be set on a copy of a slice from a DataFrame\n",
      "\n",
      "See the caveats in the documentation: http://pandas.pydata.org/pandas-docs/stable/indexing.html#indexing-view-versus-copy\n",
      "  \n"
     ]
    }
   ],
   "source": [
    "X_train.drop('game_date', axis=1, inplace=True)\n",
    "X_test.drop('game_date', axis=1, inplace=True)\n",
    "y_train_over = y_train_over['bet_won_over']\n",
    "y_test_over = y_test_over['bet_won_over']\n",
    "y_train_under = y_train_under['bet_won_under']\n",
    "y_test_under = y_test_under['bet_won_under']"
   ]
  },
  {
   "cell_type": "markdown",
   "metadata": {},
   "source": [
    "## Logistic Regression"
   ]
  },
  {
   "cell_type": "code",
   "execution_count": 9,
   "metadata": {},
   "outputs": [
    {
     "data": {
      "text/plain": [
       "LogisticRegressionCV(Cs=[0.1, 0.6], class_weight=None, cv=None, dual=False,\n",
       "           fit_intercept=True, intercept_scaling=1.0, max_iter=100,\n",
       "           multi_class='ovr', n_jobs=1, penalty='l2', random_state=None,\n",
       "           refit=True, scoring='neg_log_loss', solver='lbfgs', tol=0.0001,\n",
       "           verbose=0)"
      ]
     },
     "execution_count": 9,
     "metadata": {},
     "output_type": "execute_result"
    }
   ],
   "source": [
    "log_reg_over = LogisticRegressionCV(Cs=[0.1, 0.6], scoring='neg_log_loss')\n",
    "log_reg_over.fit(X_train, y_train_over)"
   ]
  },
  {
   "cell_type": "code",
   "execution_count": 10,
   "metadata": {},
   "outputs": [
    {
     "data": {
      "text/plain": [
       "0.5521251850285472"
      ]
     },
     "execution_count": 10,
     "metadata": {},
     "output_type": "execute_result"
    }
   ],
   "source": [
    "log_reg_over.score(X_train, y_train_over)"
   ]
  },
  {
   "cell_type": "code",
   "execution_count": 11,
   "metadata": {},
   "outputs": [
    {
     "data": {
      "text/plain": [
       "0.510575296108291"
      ]
     },
     "execution_count": 11,
     "metadata": {},
     "output_type": "execute_result"
    }
   ],
   "source": [
    "log_reg_over.score(X_test, y_test_over)"
   ]
  },
  {
   "cell_type": "code",
   "execution_count": 12,
   "metadata": {
    "scrolled": false
   },
   "outputs": [],
   "source": [
    "pred_probas_over = log_reg_over.predict_proba(X_test)"
   ]
  },
  {
   "cell_type": "code",
   "execution_count": 13,
   "metadata": {},
   "outputs": [
    {
     "data": {
      "text/plain": [
       "array([[0.38513549, 0.61486451],\n",
       "       [0.38497477, 0.61502523],\n",
       "       [0.30018209, 0.69981791],\n",
       "       ...,\n",
       "       [0.49337795, 0.50662205],\n",
       "       [0.67240899, 0.32759101],\n",
       "       [0.67156494, 0.32843506]])"
      ]
     },
     "execution_count": 13,
     "metadata": {},
     "output_type": "execute_result"
    }
   ],
   "source": [
    "pred_probas_over"
   ]
  },
  {
   "cell_type": "markdown",
   "metadata": {},
   "source": [
    "This threshold calculation I making in the next cell will allow to set a level, above which I will term a prediction \"confident.\" I will be using these confident predictions to compile my betting strategy"
   ]
  },
  {
   "cell_type": "code",
   "execution_count": 54,
   "metadata": {},
   "outputs": [],
   "source": [
    "bet_over  = [x[1] > .64 for x in pred_probas_over]"
   ]
  },
  {
   "cell_type": "code",
   "execution_count": 55,
   "metadata": {},
   "outputs": [
    {
     "data": {
      "text/plain": [
       "31"
      ]
     },
     "execution_count": 55,
     "metadata": {},
     "output_type": "execute_result"
    }
   ],
   "source": [
    "sum(bet_over)"
   ]
  },
  {
   "cell_type": "code",
   "execution_count": 56,
   "metadata": {},
   "outputs": [
    {
     "data": {
      "text/plain": [
       "0.5806451612903226"
      ]
     },
     "execution_count": 56,
     "metadata": {},
     "output_type": "execute_result"
    }
   ],
   "source": [
    "y_test_over[bet_over].mean()"
   ]
  },
  {
   "cell_type": "code",
   "execution_count": 57,
   "metadata": {},
   "outputs": [
    {
     "data": {
      "text/plain": [
       "LogisticRegressionCV(Cs=[0.1, 0.6], class_weight=None, cv=None, dual=False,\n",
       "           fit_intercept=True, intercept_scaling=1.0, max_iter=100,\n",
       "           multi_class='ovr', n_jobs=1, penalty='l2', random_state=None,\n",
       "           refit=True, scoring='neg_log_loss', solver='lbfgs', tol=0.0001,\n",
       "           verbose=0)"
      ]
     },
     "execution_count": 57,
     "metadata": {},
     "output_type": "execute_result"
    }
   ],
   "source": [
    "log_reg_under = LogisticRegressionCV(Cs=[0.1, 0.6], scoring='neg_log_loss')\n",
    "log_reg_under.fit(X_train, y_train_under)"
   ]
  },
  {
   "cell_type": "code",
   "execution_count": 58,
   "metadata": {},
   "outputs": [
    {
     "data": {
      "text/plain": [
       "0.562698244872066"
      ]
     },
     "execution_count": 58,
     "metadata": {},
     "output_type": "execute_result"
    }
   ],
   "source": [
    "log_reg_under.score(X_train, y_train_under)"
   ]
  },
  {
   "cell_type": "code",
   "execution_count": 59,
   "metadata": {},
   "outputs": [
    {
     "data": {
      "text/plain": [
       "0.5143824027072758"
      ]
     },
     "execution_count": 59,
     "metadata": {},
     "output_type": "execute_result"
    }
   ],
   "source": [
    "log_reg_under.score(X_test, y_test_under)"
   ]
  },
  {
   "cell_type": "code",
   "execution_count": 60,
   "metadata": {},
   "outputs": [],
   "source": [
    "pred_probas_under = log_reg_under.predict_proba(X_test)"
   ]
  },
  {
   "cell_type": "code",
   "execution_count": 61,
   "metadata": {},
   "outputs": [],
   "source": [
    "bet_under  = [x[1] > .62 for x in pred_probas_under]"
   ]
  },
  {
   "cell_type": "code",
   "execution_count": 62,
   "metadata": {},
   "outputs": [
    {
     "data": {
      "text/plain": [
       "63"
      ]
     },
     "execution_count": 62,
     "metadata": {},
     "output_type": "execute_result"
    }
   ],
   "source": [
    "sum(bet_under)"
   ]
  },
  {
   "cell_type": "code",
   "execution_count": 63,
   "metadata": {},
   "outputs": [
    {
     "data": {
      "text/plain": [
       "0.5714285714285714"
      ]
     },
     "execution_count": 63,
     "metadata": {},
     "output_type": "execute_result"
    }
   ],
   "source": [
    "y_test_under[bet_under].mean()"
   ]
  },
  {
   "cell_type": "code",
   "execution_count": 64,
   "metadata": {},
   "outputs": [
    {
     "data": {
      "text/html": [
       "<div>\n",
       "<style scoped>\n",
       "    .dataframe tbody tr th:only-of-type {\n",
       "        vertical-align: middle;\n",
       "    }\n",
       "\n",
       "    .dataframe tbody tr th {\n",
       "        vertical-align: top;\n",
       "    }\n",
       "\n",
       "    .dataframe thead th {\n",
       "        text-align: right;\n",
       "    }\n",
       "</style>\n",
       "<table border=\"1\" class=\"dataframe\">\n",
       "  <thead>\n",
       "    <tr style=\"text-align: right;\">\n",
       "      <th></th>\n",
       "      <th>stl_1_3_opp</th>\n",
       "      <th>stl_1_3</th>\n",
       "      <th>ft_2_3</th>\n",
       "      <th>ft_2_3_opp</th>\n",
       "      <th>home_2_2</th>\n",
       "    </tr>\n",
       "  </thead>\n",
       "  <tbody>\n",
       "    <tr>\n",
       "      <th>0</th>\n",
       "      <td>-0.029516</td>\n",
       "      <td>-0.029479</td>\n",
       "      <td>-0.026623</td>\n",
       "      <td>-0.026617</td>\n",
       "      <td>-0.024344</td>\n",
       "    </tr>\n",
       "  </tbody>\n",
       "</table>\n",
       "</div>"
      ],
      "text/plain": [
       "   stl_1_3_opp   stl_1_3    ft_2_3  ft_2_3_opp  home_2_2\n",
       "0    -0.029516 -0.029479 -0.026623   -0.026617 -0.024344"
      ]
     },
     "execution_count": 64,
     "metadata": {},
     "output_type": "execute_result"
    }
   ],
   "source": [
    "coefs = pd.DataFrame(log_reg_over.coef_, columns=X_train.columns)\n",
    "\n",
    "coefs.T.sort_values(0).head().T"
   ]
  },
  {
   "cell_type": "code",
   "execution_count": 65,
   "metadata": {
    "scrolled": true
   },
   "outputs": [
    {
     "data": {
      "text/html": [
       "<div>\n",
       "<style scoped>\n",
       "    .dataframe tbody tr th:only-of-type {\n",
       "        vertical-align: middle;\n",
       "    }\n",
       "\n",
       "    .dataframe tbody tr th {\n",
       "        vertical-align: top;\n",
       "    }\n",
       "\n",
       "    .dataframe thead th {\n",
       "        text-align: right;\n",
       "    }\n",
       "</style>\n",
       "<table border=\"1\" class=\"dataframe\">\n",
       "  <thead>\n",
       "    <tr style=\"text-align: right;\">\n",
       "      <th></th>\n",
       "      <th>fta_2_3</th>\n",
       "      <th>home_1_2_opp</th>\n",
       "      <th>home_1_2</th>\n",
       "      <th>tov_1_3</th>\n",
       "      <th>tov_1_3_opp</th>\n",
       "    </tr>\n",
       "  </thead>\n",
       "  <tbody>\n",
       "    <tr>\n",
       "      <th>0</th>\n",
       "      <td>0.019358</td>\n",
       "      <td>0.024572</td>\n",
       "      <td>0.024578</td>\n",
       "      <td>0.025679</td>\n",
       "      <td>0.025681</td>\n",
       "    </tr>\n",
       "  </tbody>\n",
       "</table>\n",
       "</div>"
      ],
      "text/plain": [
       "    fta_2_3  home_1_2_opp  home_1_2   tov_1_3  tov_1_3_opp\n",
       "0  0.019358      0.024572  0.024578  0.025679     0.025681"
      ]
     },
     "execution_count": 65,
     "metadata": {},
     "output_type": "execute_result"
    }
   ],
   "source": [
    "coefs.T.sort_values(0).tail().T"
   ]
  },
  {
   "cell_type": "markdown",
   "metadata": {},
   "source": [
    "## Random Forest Classifier"
   ]
  },
  {
   "cell_type": "code",
   "execution_count": 98,
   "metadata": {},
   "outputs": [],
   "source": [
    "ss = StandardScaler()\n",
    "rfc = RandomForestClassifier()"
   ]
  },
  {
   "cell_type": "code",
   "execution_count": 99,
   "metadata": {},
   "outputs": [],
   "source": [
    "pipe_rfc = Pipeline([\n",
    "    ('ss', ss),\n",
    "    ('rfc', rfc)\n",
    "])"
   ]
  },
  {
   "cell_type": "code",
   "execution_count": 100,
   "metadata": {},
   "outputs": [],
   "source": [
    "params_rfc = {\n",
    "    'rfc__n_estimators': [10, 50, 100],\n",
    "    'rfc__max_depth': [3, 6, 10],\n",
    "    'rfc__min_samples_split': [2, 3, 4]\n",
    "}"
   ]
  },
  {
   "cell_type": "code",
   "execution_count": 101,
   "metadata": {},
   "outputs": [],
   "source": [
    "ts_split = TimeSeriesSplit(n_splits=3).split(X_train)"
   ]
  },
  {
   "cell_type": "code",
   "execution_count": 72,
   "metadata": {},
   "outputs": [
    {
     "data": {
      "text/plain": [
       "GridSearchCV(cv=<generator object TimeSeriesSplit.split at 0x1a0de29518>,\n",
       "       error_score='raise',\n",
       "       estimator=Pipeline(memory=None,\n",
       "     steps=[('ss', StandardScaler(copy=True, with_mean=True, with_std=True)), ('rfc', RandomForestClassifier(bootstrap=True, class_weight=None, criterion='gini',\n",
       "            max_depth=None, max_features='auto', max_leaf_nodes=None,\n",
       "            min_impurity_decrease=0.0, min_impurity_split=None,\n",
       "         ...n_jobs=1,\n",
       "            oob_score=False, random_state=None, verbose=0,\n",
       "            warm_start=False))]),\n",
       "       fit_params=None, iid=True, n_jobs=1,\n",
       "       param_grid={'rfc__n_estimators': [10, 50, 100], 'rfc__max_depth': [3, 6, 10], 'rfc__min_samples_split': [2, 3, 4]},\n",
       "       pre_dispatch='2*n_jobs', refit=True, return_train_score='warn',\n",
       "       scoring='roc_auc', verbose=0)"
      ]
     },
     "execution_count": 72,
     "metadata": {},
     "output_type": "execute_result"
    }
   ],
   "source": [
    "gs_rfc_over = GridSearchCV(pipe_rfc, param_grid=params_rfc, cv=ts_split, scoring='roc_auc')\n",
    "gs_rfc_over.fit(X_train, y_train_over)"
   ]
  },
  {
   "cell_type": "code",
   "execution_count": 74,
   "metadata": {},
   "outputs": [
    {
     "data": {
      "text/plain": [
       "0.7146182134236571"
      ]
     },
     "execution_count": 74,
     "metadata": {},
     "output_type": "execute_result"
    }
   ],
   "source": [
    "gs_rfc_over.score(X_train, y_train_over)"
   ]
  },
  {
   "cell_type": "code",
   "execution_count": 75,
   "metadata": {},
   "outputs": [
    {
     "data": {
      "text/plain": [
       "0.5175117016977135"
      ]
     },
     "execution_count": 75,
     "metadata": {},
     "output_type": "execute_result"
    }
   ],
   "source": [
    "gs_rfc_over.score(X_test, y_test_over)"
   ]
  },
  {
   "cell_type": "code",
   "execution_count": 76,
   "metadata": {},
   "outputs": [
    {
     "name": "stdout",
     "output_type": "stream",
     "text": [
      "0.5118889552361107\n",
      "{'rfc__max_depth': 6, 'rfc__min_samples_split': 2, 'rfc__n_estimators': 10}\n"
     ]
    }
   ],
   "source": [
    "print(gs_rfc_over.best_score_)\n",
    "print(gs_rfc_over.best_params_)"
   ]
  },
  {
   "cell_type": "code",
   "execution_count": 77,
   "metadata": {},
   "outputs": [],
   "source": [
    "pred_probas_rfc_over = gs_rfc_over.predict_proba(X_test)"
   ]
  },
  {
   "cell_type": "code",
   "execution_count": 78,
   "metadata": {},
   "outputs": [
    {
     "data": {
      "text/plain": [
       "array([[0.52266173, 0.47733827],\n",
       "       [0.47643224, 0.52356776],\n",
       "       [0.57069955, 0.42930045],\n",
       "       ...,\n",
       "       [0.39794281, 0.60205719],\n",
       "       [0.53872339, 0.46127661],\n",
       "       [0.56472091, 0.43527909]])"
      ]
     },
     "execution_count": 78,
     "metadata": {},
     "output_type": "execute_result"
    }
   ],
   "source": [
    "pred_probas_rfc_over"
   ]
  },
  {
   "cell_type": "code",
   "execution_count": 94,
   "metadata": {},
   "outputs": [],
   "source": [
    "rfc_bet_over  = [x[1] > .56 for x in pred_probas_rfc_over]"
   ]
  },
  {
   "cell_type": "code",
   "execution_count": 95,
   "metadata": {},
   "outputs": [
    {
     "data": {
      "text/plain": [
       "116"
      ]
     },
     "execution_count": 95,
     "metadata": {},
     "output_type": "execute_result"
    }
   ],
   "source": [
    "sum(rfc_bet_over)"
   ]
  },
  {
   "cell_type": "code",
   "execution_count": 96,
   "metadata": {
    "scrolled": true
   },
   "outputs": [
    {
     "data": {
      "text/plain": [
       "0.4827586206896552"
      ]
     },
     "execution_count": 96,
     "metadata": {},
     "output_type": "execute_result"
    }
   ],
   "source": [
    "y_test_over[rfc_bet_over].mean()"
   ]
  },
  {
   "cell_type": "code",
   "execution_count": 102,
   "metadata": {},
   "outputs": [
    {
     "data": {
      "text/plain": [
       "GridSearchCV(cv=<generator object TimeSeriesSplit.split at 0x1a2337f5c8>,\n",
       "       error_score='raise',\n",
       "       estimator=Pipeline(memory=None,\n",
       "     steps=[('ss', StandardScaler(copy=True, with_mean=True, with_std=True)), ('rfc', RandomForestClassifier(bootstrap=True, class_weight=None, criterion='gini',\n",
       "            max_depth=None, max_features='auto', max_leaf_nodes=None,\n",
       "            min_impurity_decrease=0.0, min_impurity_split=None,\n",
       "         ...n_jobs=1,\n",
       "            oob_score=False, random_state=None, verbose=0,\n",
       "            warm_start=False))]),\n",
       "       fit_params=None, iid=True, n_jobs=1,\n",
       "       param_grid={'rfc__n_estimators': [10, 50, 100], 'rfc__max_depth': [3, 6, 10], 'rfc__min_samples_split': [2, 3, 4]},\n",
       "       pre_dispatch='2*n_jobs', refit=True, return_train_score='warn',\n",
       "       scoring='roc_auc', verbose=0)"
      ]
     },
     "execution_count": 102,
     "metadata": {},
     "output_type": "execute_result"
    }
   ],
   "source": [
    "gs_rfc_under = GridSearchCV(pipe_rfc, param_grid=params_rfc, cv=ts_split, scoring='roc_auc')\n",
    "gs_rfc_under.fit(X_train, y_train_under)"
   ]
  },
  {
   "cell_type": "code",
   "execution_count": 103,
   "metadata": {},
   "outputs": [
    {
     "data": {
      "text/plain": [
       "0.9927407995987374"
      ]
     },
     "execution_count": 103,
     "metadata": {},
     "output_type": "execute_result"
    }
   ],
   "source": [
    "gs_rfc_under.score(X_train, y_train_under)"
   ]
  },
  {
   "cell_type": "code",
   "execution_count": 104,
   "metadata": {},
   "outputs": [
    {
     "data": {
      "text/plain": [
       "0.48739996277684716"
      ]
     },
     "execution_count": 104,
     "metadata": {},
     "output_type": "execute_result"
    }
   ],
   "source": [
    "gs_rfc_under.score(X_test, y_test_under)"
   ]
  },
  {
   "cell_type": "code",
   "execution_count": 105,
   "metadata": {},
   "outputs": [
    {
     "name": "stdout",
     "output_type": "stream",
     "text": [
      "0.5065945002301306\n",
      "{'rfc__max_depth': 10, 'rfc__min_samples_split': 4, 'rfc__n_estimators': 50}\n"
     ]
    }
   ],
   "source": [
    "print(gs_rfc_under.best_score_)\n",
    "print(gs_rfc_under.best_params_)"
   ]
  },
  {
   "cell_type": "code",
   "execution_count": 106,
   "metadata": {},
   "outputs": [],
   "source": [
    "pred_probas_rfc_under = gs_rfc_under.predict_proba(X_test)"
   ]
  },
  {
   "cell_type": "code",
   "execution_count": 119,
   "metadata": {},
   "outputs": [],
   "source": [
    "rfc_bet_under = [x[1] > .55 for x in pred_probas_rfc_under]"
   ]
  },
  {
   "cell_type": "code",
   "execution_count": 120,
   "metadata": {},
   "outputs": [
    {
     "data": {
      "text/plain": [
       "74"
      ]
     },
     "execution_count": 120,
     "metadata": {},
     "output_type": "execute_result"
    }
   ],
   "source": [
    "y_test_under[rfc_bet_under].sum()"
   ]
  },
  {
   "cell_type": "code",
   "execution_count": 121,
   "metadata": {},
   "outputs": [
    {
     "data": {
      "text/plain": [
       "0.4539877300613497"
      ]
     },
     "execution_count": 121,
     "metadata": {},
     "output_type": "execute_result"
    }
   ],
   "source": [
    "y_test_under[rfc_bet_under].mean()"
   ]
  },
  {
   "cell_type": "markdown",
   "metadata": {},
   "source": [
    "## Pipeline to explore feature selection w/ SelectKBest"
   ]
  },
  {
   "cell_type": "code",
   "execution_count": 125,
   "metadata": {},
   "outputs": [],
   "source": [
    "from sklearn.linear_model import LogisticRegression\n",
    "from sklearn.feature_selection import SelectKBest, SelectFromModel"
   ]
  },
  {
   "cell_type": "code",
   "execution_count": 126,
   "metadata": {},
   "outputs": [
    {
     "data": {
      "text/plain": [
       "GridSearchCV(cv=<generator object TimeSeriesSplit.split at 0x10740c9e8>,\n",
       "       error_score='raise',\n",
       "       estimator=Pipeline(memory=None,\n",
       "     steps=[('ss', StandardScaler(copy=True, with_mean=True, with_std=True)), ('kbest', SelectKBest(k=150, score_func=<function f_classif at 0x1a0d9ad598>)), ('logreg', LogisticRegression(C=1.0, class_weight=None, dual=False, fit_intercept=True,\n",
       "          intercept_scaling=1, max_iter=1000, multi_class='ovr', n_jobs=1,\n",
       "          penalty='l2', random_state=None, solver='liblinear', tol=0.0001,\n",
       "          verbose=0, warm_start=False))]),\n",
       "       fit_params=None, iid=True, n_jobs=1,\n",
       "       param_grid={'logreg__C': [1, 0.5, 0.1]}, pre_dispatch='2*n_jobs',\n",
       "       refit=True, return_train_score='warn', scoring='roc_auc', verbose=0)"
      ]
     },
     "execution_count": 126,
     "metadata": {},
     "output_type": "execute_result"
    }
   ],
   "source": [
    "pipe = Pipeline([\n",
    "    ('ss', StandardScaler()),\n",
    "    ('kbest', SelectKBest(k=150)),\n",
    "    ('logreg', LogisticRegression(max_iter=1000))\n",
    "])\n",
    "\n",
    "params = {'logreg__C': [1, .5, .1]}\n",
    "\n",
    "ts_split = TimeSeriesSplit(n_splits=3).split(X_train)\n",
    "\n",
    "gs_k150 = GridSearchCV(pipe ,params, scoring='roc_auc', cv = ts_split)\n",
    "\n",
    "gs_k150.fit(X_train, y_train_over)"
   ]
  },
  {
   "cell_type": "code",
   "execution_count": 127,
   "metadata": {},
   "outputs": [
    {
     "data": {
      "text/plain": [
       "0.5705806623616203"
      ]
     },
     "execution_count": 127,
     "metadata": {},
     "output_type": "execute_result"
    }
   ],
   "source": [
    "gs_k150.score(X_train, y_train_over)"
   ]
  },
  {
   "cell_type": "code",
   "execution_count": 128,
   "metadata": {
    "scrolled": false
   },
   "outputs": [
    {
     "data": {
      "text/plain": [
       "0.5195252822595671"
      ]
     },
     "execution_count": 128,
     "metadata": {},
     "output_type": "execute_result"
    }
   ],
   "source": [
    "gs_k150.score(X_test, y_test_over)"
   ]
  },
  {
   "cell_type": "code",
   "execution_count": 133,
   "metadata": {},
   "outputs": [
    {
     "data": {
      "text/html": [
       "<div>\n",
       "<style scoped>\n",
       "    .dataframe tbody tr th:only-of-type {\n",
       "        vertical-align: middle;\n",
       "    }\n",
       "\n",
       "    .dataframe tbody tr th {\n",
       "        vertical-align: top;\n",
       "    }\n",
       "\n",
       "    .dataframe thead th {\n",
       "        text-align: right;\n",
       "    }\n",
       "</style>\n",
       "<table border=\"1\" class=\"dataframe\">\n",
       "  <thead>\n",
       "    <tr style=\"text-align: right;\">\n",
       "      <th></th>\n",
       "      <th>0</th>\n",
       "    </tr>\n",
       "  </thead>\n",
       "  <tbody>\n",
       "    <tr>\n",
       "      <th>pts_1_3_opp</th>\n",
       "      <td>0.119819</td>\n",
       "    </tr>\n",
       "    <tr>\n",
       "      <th>pts_1_3</th>\n",
       "      <td>0.114728</td>\n",
       "    </tr>\n",
       "    <tr>\n",
       "      <th>orb_2_3</th>\n",
       "      <td>0.104816</td>\n",
       "    </tr>\n",
       "    <tr>\n",
       "      <th>orb_2_3_opp</th>\n",
       "      <td>0.103506</td>\n",
       "    </tr>\n",
       "    <tr>\n",
       "      <th>fta_1_2</th>\n",
       "      <td>0.070778</td>\n",
       "    </tr>\n",
       "  </tbody>\n",
       "</table>\n",
       "</div>"
      ],
      "text/plain": [
       "                    0\n",
       "pts_1_3_opp  0.119819\n",
       "pts_1_3      0.114728\n",
       "orb_2_3      0.104816\n",
       "orb_2_3_opp  0.103506\n",
       "fta_1_2      0.070778"
      ]
     },
     "execution_count": 133,
     "metadata": {},
     "output_type": "execute_result"
    }
   ],
   "source": [
    "best_150_cols = X_train.columns[gs_k150.best_estimator_.named_steps['kbest'].get_support()]\n",
    "\n",
    "k150_coef = gs_k150.best_estimator_.named_steps['logreg'].coef_\n",
    "\n",
    "pd.DataFrame(k150_coef, columns=best_150_cols).T.sort_values(0, ascending=False).head()"
   ]
  },
  {
   "cell_type": "code",
   "execution_count": 134,
   "metadata": {},
   "outputs": [],
   "source": [
    "pred_probas_over_k150 = gs_k150.predict_proba(X_test)"
   ]
  },
  {
   "cell_type": "code",
   "execution_count": 135,
   "metadata": {},
   "outputs": [],
   "source": [
    "k150_bets_over = [x[1]>.6 for x in pred_probas_over_k150]"
   ]
  },
  {
   "cell_type": "code",
   "execution_count": 136,
   "metadata": {},
   "outputs": [
    {
     "data": {
      "text/plain": [
       "39"
      ]
     },
     "execution_count": 136,
     "metadata": {},
     "output_type": "execute_result"
    }
   ],
   "source": [
    "y_test_over[k150_bets_over].sum()"
   ]
  },
  {
   "cell_type": "code",
   "execution_count": 137,
   "metadata": {},
   "outputs": [
    {
     "data": {
      "text/plain": [
       "0.582089552238806"
      ]
     },
     "execution_count": 137,
     "metadata": {},
     "output_type": "execute_result"
    }
   ],
   "source": [
    "y_test_over[k150_bets_over].mean()"
   ]
  },
  {
   "cell_type": "code",
   "execution_count": 138,
   "metadata": {},
   "outputs": [],
   "source": [
    "pipe = Pipeline([\n",
    "    ('ss', StandardScaler()),\n",
    "    ('kbest', SelectKBest(k=150)),\n",
    "    ('logreg', LogisticRegression(max_iter=1000))\n",
    "])\n",
    "\n",
    "params = {'logreg__C': [1, .5, .1]}\n",
    "\n",
    "ts_split = TimeSeriesSplit(n_splits=3).split(X_train)"
   ]
  },
  {
   "cell_type": "code",
   "execution_count": 139,
   "metadata": {},
   "outputs": [
    {
     "data": {
      "text/plain": [
       "GridSearchCV(cv=<generator object TimeSeriesSplit.split at 0x10740dca8>,\n",
       "       error_score='raise',\n",
       "       estimator=Pipeline(memory=None,\n",
       "     steps=[('ss', StandardScaler(copy=True, with_mean=True, with_std=True)), ('kbest', SelectKBest(k=150, score_func=<function f_classif at 0x1a0d9ad598>)), ('logreg', LogisticRegression(C=1.0, class_weight=None, dual=False, fit_intercept=True,\n",
       "          intercept_scaling=1, max_iter=1000, multi_class='ovr', n_jobs=1,\n",
       "          penalty='l2', random_state=None, solver='liblinear', tol=0.0001,\n",
       "          verbose=0, warm_start=False))]),\n",
       "       fit_params=None, iid=True, n_jobs=1,\n",
       "       param_grid={'logreg__C': [1, 0.5, 0.1]}, pre_dispatch='2*n_jobs',\n",
       "       refit=True, return_train_score='warn', scoring='roc_auc', verbose=0)"
      ]
     },
     "execution_count": 139,
     "metadata": {},
     "output_type": "execute_result"
    }
   ],
   "source": [
    "gs_k150_under = GridSearchCV(pipe ,params, scoring='roc_auc', cv = ts_split)\n",
    "\n",
    "gs_k150_under.fit(X_train, y_train_under)"
   ]
  },
  {
   "cell_type": "code",
   "execution_count": 140,
   "metadata": {},
   "outputs": [
    {
     "data": {
      "text/plain": [
       "0.571588668624563"
      ]
     },
     "execution_count": 140,
     "metadata": {},
     "output_type": "execute_result"
    }
   ],
   "source": [
    "gs_k150_under.score(X_train, y_train_under)"
   ]
  },
  {
   "cell_type": "code",
   "execution_count": 141,
   "metadata": {},
   "outputs": [
    {
     "data": {
      "text/plain": [
       "0.5301521854285673"
      ]
     },
     "execution_count": 141,
     "metadata": {},
     "output_type": "execute_result"
    }
   ],
   "source": [
    "gs_k150_under.score(X_test, y_test_under)"
   ]
  },
  {
   "cell_type": "code",
   "execution_count": 142,
   "metadata": {},
   "outputs": [],
   "source": [
    "pred_probas_under_k150 = gs_k150_under.predict_proba(X_test)"
   ]
  },
  {
   "cell_type": "code",
   "execution_count": 158,
   "metadata": {},
   "outputs": [],
   "source": [
    "k150_bets_under = [x[1] > .62 for x in pred_probas_under_k150]"
   ]
  },
  {
   "cell_type": "code",
   "execution_count": 159,
   "metadata": {},
   "outputs": [
    {
     "data": {
      "text/plain": [
       "32"
      ]
     },
     "execution_count": 159,
     "metadata": {},
     "output_type": "execute_result"
    }
   ],
   "source": [
    "y_test_under[k150_bets_under].sum()"
   ]
  },
  {
   "cell_type": "code",
   "execution_count": 160,
   "metadata": {},
   "outputs": [
    {
     "data": {
      "text/plain": [
       "0.64"
      ]
     },
     "execution_count": 160,
     "metadata": {},
     "output_type": "execute_result"
    }
   ],
   "source": [
    "y_test_under[k150_bets_under].mean()"
   ]
  },
  {
   "cell_type": "markdown",
   "metadata": {},
   "source": [
    "## PCA"
   ]
  },
  {
   "cell_type": "code",
   "execution_count": 161,
   "metadata": {},
   "outputs": [],
   "source": [
    "ss = StandardScaler()"
   ]
  },
  {
   "cell_type": "code",
   "execution_count": 162,
   "metadata": {},
   "outputs": [],
   "source": [
    "X_train_sc = ss.fit_transform(X_train)\n",
    "X_test_sc = ss.transform(X_test)"
   ]
  },
  {
   "cell_type": "code",
   "execution_count": 163,
   "metadata": {},
   "outputs": [],
   "source": [
    "pca = PCA(n_components=100)"
   ]
  },
  {
   "cell_type": "code",
   "execution_count": 164,
   "metadata": {},
   "outputs": [],
   "source": [
    "X_train_pca = pca.fit_transform(X_train_sc)\n",
    "X_test_pca = pca.transform(X_test_sc)"
   ]
  },
  {
   "cell_type": "code",
   "execution_count": 165,
   "metadata": {},
   "outputs": [
    {
     "data": {
      "text/plain": [
       "[<matplotlib.lines.Line2D at 0x1a0e68c9e8>]"
      ]
     },
     "execution_count": 165,
     "metadata": {},
     "output_type": "execute_result"
    },
    {
     "data": {
      "image/png": "[encoded data removed]",
      "text/plain": [
       "<matplotlib.figure.Figure at 0x1073dc668>"
      ]
     },
     "metadata": {},
     "output_type": "display_data"
    }
   ],
   "source": [
    "plt.plot(np.cumsum(pca.explained_variance_ratio_))"
   ]
  },
  {
   "cell_type": "code",
   "execution_count": 166,
   "metadata": {},
   "outputs": [
    {
     "data": {
      "text/plain": [
       "GridSearchCV(cv=<generator object TimeSeriesSplit.split at 0x107402f68>,\n",
       "       error_score='raise',\n",
       "       estimator=Pipeline(memory=None,\n",
       "     steps=[('logreg', LogisticRegression(C=1.0, class_weight=None, dual=False, fit_intercept=True,\n",
       "          intercept_scaling=1, max_iter=1000, multi_class='ovr', n_jobs=1,\n",
       "          penalty='l2', random_state=None, solver='liblinear', tol=0.0001,\n",
       "          verbose=0, warm_start=False))]),\n",
       "       fit_params=None, iid=True, n_jobs=1,\n",
       "       param_grid={'logreg__C': [1, 0.5, 0.1]}, pre_dispatch='2*n_jobs',\n",
       "       refit=True, return_train_score='warn', scoring='roc_auc', verbose=0)"
      ]
     },
     "execution_count": 166,
     "metadata": {},
     "output_type": "execute_result"
    }
   ],
   "source": [
    "pipe = Pipeline([\n",
    "    ('logreg', LogisticRegression(max_iter=1000))\n",
    "])\n",
    "\n",
    "params = {'logreg__C': [1, .5, .1]}\n",
    "\n",
    "ts_split = TimeSeriesSplit(n_splits=3).split(X_train)\n",
    "\n",
    "gs_pca_over = GridSearchCV(pipe ,params, scoring='roc_auc', cv = ts_split)\n",
    "\n",
    "gs_pca_over.fit(X_train_pca, y_train_over)"
   ]
  },
  {
   "cell_type": "code",
   "execution_count": 167,
   "metadata": {},
   "outputs": [
    {
     "data": {
      "text/plain": [
       "0.5569705159793086"
      ]
     },
     "execution_count": 167,
     "metadata": {},
     "output_type": "execute_result"
    }
   ],
   "source": [
    "gs_pca_over.score(X_train_pca, y_train_over)"
   ]
  },
  {
   "cell_type": "code",
   "execution_count": 168,
   "metadata": {},
   "outputs": [
    {
     "data": {
      "text/plain": [
       "0.5045366471662257"
      ]
     },
     "execution_count": 168,
     "metadata": {},
     "output_type": "execute_result"
    }
   ],
   "source": [
    "gs_pca_over.score(X_test_pca, y_test_over)"
   ]
  },
  {
   "cell_type": "code",
   "execution_count": 170,
   "metadata": {},
   "outputs": [
    {
     "data": {
      "text/plain": [
       "GridSearchCV(cv=<generator object TimeSeriesSplit.split at 0x10740c468>,\n",
       "       error_score='raise',\n",
       "       estimator=Pipeline(memory=None,\n",
       "     steps=[('logreg', LogisticRegression(C=1.0, class_weight=None, dual=False, fit_intercept=True,\n",
       "          intercept_scaling=1, max_iter=1000, multi_class='ovr', n_jobs=1,\n",
       "          penalty='l2', random_state=None, solver='liblinear', tol=0.0001,\n",
       "          verbose=0, warm_start=False))]),\n",
       "       fit_params=None, iid=True, n_jobs=1,\n",
       "       param_grid={'logreg__C': [1, 0.5, 0.1]}, pre_dispatch='2*n_jobs',\n",
       "       refit=True, return_train_score='warn', scoring='roc_auc', verbose=0)"
      ]
     },
     "execution_count": 170,
     "metadata": {},
     "output_type": "execute_result"
    }
   ],
   "source": [
    "pipe = Pipeline([\n",
    "    ('logreg', LogisticRegression(max_iter=1000))\n",
    "])\n",
    "\n",
    "params = {'logreg__C': [1, .5, .1]}\n",
    "\n",
    "ts_split = TimeSeriesSplit(n_splits=3).split(X_train)\n",
    "\n",
    "gs_pca_under = GridSearchCV(pipe ,params, scoring='roc_auc', cv = ts_split)\n",
    "\n",
    "gs_pca_under.fit(X_train_pca, y_train_under)"
   ]
  },
  {
   "cell_type": "code",
   "execution_count": 171,
   "metadata": {},
   "outputs": [
    {
     "data": {
      "text/plain": [
       "0.5559528072819718"
      ]
     },
     "execution_count": 171,
     "metadata": {},
     "output_type": "execute_result"
    }
   ],
   "source": [
    "gs_pca_under.score(X_train_pca, y_train_under)"
   ]
  },
  {
   "cell_type": "code",
   "execution_count": 172,
   "metadata": {},
   "outputs": [
    {
     "data": {
      "text/plain": [
       "0.5084446448768056"
      ]
     },
     "execution_count": 172,
     "metadata": {},
     "output_type": "execute_result"
    }
   ],
   "source": [
    "gs_pca_under.score(X_test_pca, y_test_under)"
   ]
  },
  {
   "cell_type": "markdown",
   "metadata": {},
   "source": [
    "## SelectFromModel"
   ]
  },
  {
   "cell_type": "code",
   "execution_count": 174,
   "metadata": {},
   "outputs": [
    {
     "data": {
      "text/plain": [
       "GridSearchCV(cv=<generator object TimeSeriesSplit.split at 0x1a0e6c3d58>,\n",
       "       error_score='raise',\n",
       "       estimator=Pipeline(memory=None,\n",
       "     steps=[('ss', StandardScaler(copy=True, with_mean=True, with_std=True)), ('frommodel', SelectFromModel(estimator=LogisticRegression(C=1.0, class_weight=None, dual=False, fit_intercept=True,\n",
       "          intercept_scaling=1, max_iter=100, multi_class='ovr', n_jobs=1,\n",
       "          penalty='l1', random_state...ty='l2', random_state=None, solver='liblinear', tol=0.0001,\n",
       "          verbose=0, warm_start=False))]),\n",
       "       fit_params=None, iid=True, n_jobs=1,\n",
       "       param_grid={'logreg__C': [1, 0.5, 0.1]}, pre_dispatch='2*n_jobs',\n",
       "       refit=True, return_train_score='warn', scoring='roc_auc', verbose=0)"
      ]
     },
     "execution_count": 174,
     "metadata": {},
     "output_type": "execute_result"
    }
   ],
   "source": [
    "pipe = Pipeline([\n",
    "    ('ss', StandardScaler()),\n",
    "    ('frommodel', SelectFromModel(LogisticRegression(penalty='l1'))),\n",
    "    ('logreg', LogisticRegression(max_iter=1000))\n",
    "])\n",
    "\n",
    "params = {'logreg__C': [1, .5, .1]}\n",
    "\n",
    "ts_split = TimeSeriesSplit(n_splits=3).split(X_train)\n",
    "\n",
    "gs_from_model = GridSearchCV(pipe ,params, scoring='roc_auc', cv = ts_split)\n",
    "\n",
    "gs_from_model.fit(X_train, y_train_over)"
   ]
  },
  {
   "cell_type": "code",
   "execution_count": 175,
   "metadata": {},
   "outputs": [
    {
     "data": {
      "text/plain": [
       "0.5855110855838205"
      ]
     },
     "execution_count": 175,
     "metadata": {},
     "output_type": "execute_result"
    }
   ],
   "source": [
    "gs_from_model.score(X_train, y_train_over)"
   ]
  },
  {
   "cell_type": "code",
   "execution_count": 176,
   "metadata": {},
   "outputs": [
    {
     "data": {
      "text/plain": [
       "0.5276140001891763"
      ]
     },
     "execution_count": 176,
     "metadata": {},
     "output_type": "execute_result"
    }
   ],
   "source": [
    "gs_from_model.score(X_test, y_test_over)"
   ]
  },
  {
   "cell_type": "markdown",
   "metadata": {},
   "source": [
    "### We set `fm_bet_over` to 1 for all locations where the model confidently (>.6) predicts an over will win\n"
   ]
  },
  {
   "cell_type": "code",
   "execution_count": 181,
   "metadata": {},
   "outputs": [],
   "source": [
    "pred_probas_over_fm = gs_from_model.predict_proba(X_test)\n",
    "fm_bet_over = [x[1] > .6 for x in pred_probas_over_fm]"
   ]
  },
  {
   "cell_type": "code",
   "execution_count": 182,
   "metadata": {
    "scrolled": true
   },
   "outputs": [
    {
     "data": {
      "text/plain": [
       "78"
      ]
     },
     "execution_count": 182,
     "metadata": {},
     "output_type": "execute_result"
    }
   ],
   "source": [
    "y_test_over[fm_bet_over].sum()"
   ]
  },
  {
   "cell_type": "code",
   "execution_count": 183,
   "metadata": {},
   "outputs": [
    {
     "data": {
      "text/plain": [
       "0.5652173913043478"
      ]
     },
     "execution_count": 183,
     "metadata": {},
     "output_type": "execute_result"
    }
   ],
   "source": [
    "y_test_over[fm_bet_over].mean()"
   ]
  },
  {
   "cell_type": "code",
   "execution_count": 184,
   "metadata": {},
   "outputs": [
    {
     "data": {
      "text/plain": [
       "GridSearchCV(cv=<generator object TimeSeriesSplit.split at 0x1a24cc0a98>,\n",
       "       error_score='raise',\n",
       "       estimator=Pipeline(memory=None,\n",
       "     steps=[('ss', StandardScaler(copy=True, with_mean=True, with_std=True)), ('frommodel', SelectFromModel(estimator=LogisticRegression(C=1.0, class_weight=None, dual=False, fit_intercept=True,\n",
       "          intercept_scaling=1, max_iter=100, multi_class='ovr', n_jobs=1,\n",
       "          penalty='l1', random_state...ty='l2', random_state=None, solver='liblinear', tol=0.0001,\n",
       "          verbose=0, warm_start=False))]),\n",
       "       fit_params=None, iid=True, n_jobs=1,\n",
       "       param_grid={'logreg__C': [1, 0.5, 0.1]}, pre_dispatch='2*n_jobs',\n",
       "       refit=True, return_train_score='warn', scoring='roc_auc', verbose=0)"
      ]
     },
     "execution_count": 184,
     "metadata": {},
     "output_type": "execute_result"
    }
   ],
   "source": [
    "pipe = Pipeline([\n",
    "    ('ss', StandardScaler()),\n",
    "    ('frommodel', SelectFromModel(LogisticRegression(penalty='l1'))),\n",
    "    ('logreg', LogisticRegression(max_iter=1000))\n",
    "])\n",
    "\n",
    "params = {'logreg__C': [1, .5, .1]}\n",
    "\n",
    "ts_split = TimeSeriesSplit(n_splits=3).split(X_train)\n",
    "\n",
    "gs_from_model_under = GridSearchCV(pipe ,params, scoring='roc_auc', cv = ts_split)\n",
    "\n",
    "gs_from_model_under.fit(X_train, y_train_under)"
   ]
  },
  {
   "cell_type": "code",
   "execution_count": 185,
   "metadata": {},
   "outputs": [
    {
     "data": {
      "text/plain": [
       "0.5838577485432944"
      ]
     },
     "execution_count": 185,
     "metadata": {},
     "output_type": "execute_result"
    }
   ],
   "source": [
    "gs_from_model_under.score(X_train, y_train_under)"
   ]
  },
  {
   "cell_type": "code",
   "execution_count": 186,
   "metadata": {},
   "outputs": [
    {
     "data": {
      "text/plain": [
       "0.52996964881387"
      ]
     },
     "execution_count": 186,
     "metadata": {},
     "output_type": "execute_result"
    }
   ],
   "source": [
    "gs_from_model_under.score(X_test, y_test_under)"
   ]
  },
  {
   "cell_type": "markdown",
   "metadata": {},
   "source": [
    "### We set `fm_bet_under` to 1 for all locations where the model confidently (>.6) predicts an under will win"
   ]
  },
  {
   "cell_type": "code",
   "execution_count": 209,
   "metadata": {},
   "outputs": [],
   "source": [
    "pred_probas_under_fm = gs_from_model_under.predict_proba(X_test)\n",
    "fm_bet_under = [x[1] > .6 for x in pred_probas_under_fm]"
   ]
  },
  {
   "cell_type": "code",
   "execution_count": 442,
   "metadata": {},
   "outputs": [
    {
     "data": {
      "text/plain": [
       "0.5520833333333334"
      ]
     },
     "execution_count": 442,
     "metadata": {},
     "output_type": "execute_result"
    }
   ],
   "source": [
    "y_test_under[fm_bet_under].mean()"
   ]
  },
  {
   "cell_type": "code",
   "execution_count": 381,
   "metadata": {},
   "outputs": [],
   "source": [
    "under_thresh_dict = {}\n",
    "under_winnings_dict = {}\n",
    "\n",
    "for thresh in np.linspace(.5, .66, 16):\n",
    "    under_thresh_dict[thresh] = sum([x[1] > thresh for x in pred_probas_under_fm])\n",
    "    under_winnings_dict[thresh] = np.mean(y_test_under[[x[1] > thresh for x in pred_probas_under_fm]])\n"
   ]
  },
  {
   "cell_type": "markdown",
   "metadata": {},
   "source": [
    "On the below graph, the red line represents the amount of games with a confidently predicted under bet, graphed over a range of thresholds for what I'm considering confident. The blue line show the mean of the # of bets won given a certain threshold of confidence."
   ]
  },
  {
   "cell_type": "code",
   "execution_count": 486,
   "metadata": {},
   "outputs": [
    {
     "data": {
      "image/png": "[encoded data removed]",
      "text/plain": [
       "<matplotlib.figure.Figure at 0x1a2e668748>"
      ]
     },
     "metadata": {},
     "output_type": "display_data"
    }
   ],
   "source": [
    "rounded_labels_under = [round(x, 2) for x in under_thresh_dict.keys()]\n",
    "\n",
    "dashes = [10, 10]\n",
    "\n",
    "plt.figure(figsize=(12,6))\n",
    "plt.plot(under_thresh_dict.values(), c='r')\n",
    "plt.xticks(np.arange(16), rounded_labels_under)\n",
    "plt.title('Confidence Thresholds / Frequency of Confident Predictions (Under)')\n",
    "plt.xlabel('Thresholds')\n",
    "plt.ylabel('# of confident bets')\n",
    "ax2 = plt.twinx()\n",
    "ax2.plot(under_winnings_dict.values())\n",
    "ax2.axhline(0.54, dashes=dashes, c='black');"
   ]
  },
  {
   "cell_type": "code",
   "execution_count": 210,
   "metadata": {},
   "outputs": [
    {
     "data": {
      "text/plain": [
       "106"
      ]
     },
     "execution_count": 210,
     "metadata": {},
     "output_type": "execute_result"
    }
   ],
   "source": [
    "y_test_under[fm_bet_under].sum()"
   ]
  },
  {
   "cell_type": "code",
   "execution_count": 211,
   "metadata": {
    "scrolled": true
   },
   "outputs": [
    {
     "data": {
      "text/plain": [
       "0.5520833333333334"
      ]
     },
     "execution_count": 211,
     "metadata": {},
     "output_type": "execute_result"
    }
   ],
   "source": [
    "y_test_under[fm_bet_under].mean()"
   ]
  },
  {
   "cell_type": "code",
   "execution_count": 443,
   "metadata": {},
   "outputs": [],
   "source": [
    "over_thresh_dict = {}\n",
    "over_winnings_dict = {}\n",
    "\n",
    "for thresh in np.linspace(.5, .66, 16):\n",
    "    over_thresh_dict[thresh] = sum([x[1] > thresh for x in pred_probas_over_fm])\n",
    "    over_winnings_dict[thresh] = np.mean(y_test_over[[x[1] > thresh for x in pred_probas_over_fm]])\n"
   ]
  },
  {
   "cell_type": "markdown",
   "metadata": {},
   "source": [
    "On the below graph, the red line represents the amount of games with a confidently predicted over bet, graphed over a range of thresholds for what I'm considering confident. The blue line show the mean of the # of bets won given a certain threshold of confidence."
   ]
  },
  {
   "cell_type": "code",
   "execution_count": 445,
   "metadata": {},
   "outputs": [],
   "source": [
    "rounded_labels_over = [round(x, 2) for x in over_thresh_dict.keys()]"
   ]
  },
  {
   "cell_type": "code",
   "execution_count": 487,
   "metadata": {
    "scrolled": true
   },
   "outputs": [
    {
     "data": {
      "image/png": "[encoded data removed]",
      "text/plain": [
       "<matplotlib.figure.Figure at 0x1a2f87e198>"
      ]
     },
     "metadata": {},
     "output_type": "display_data"
    }
   ],
   "source": [
    "rounded_labels_over = [round(x, 2) for x in over_thresh_dict.keys()]\n",
    "\n",
    "dashes = [10, 10]\n",
    "\n",
    "plt.figure(figsize=(12,6))\n",
    "plt.plot(over_thresh_dict.values(), c='r')\n",
    "plt.xticks(np.arange(16), rounded_labels_over)\n",
    "plt.title('Confidence Thresholds / Frequency of Confident Predictions (Over)')\n",
    "plt.xlabel('Thresholds')\n",
    "plt.ylabel('# of confident bets')\n",
    "ax2 = plt.twinx()\n",
    "ax2.plot(over_winnings_dict.values())\n",
    "ax2.axhline(0.54, dashes=dashes, c='black');"
   ]
  },
  {
   "cell_type": "markdown",
   "metadata": {},
   "source": [
    "Below is a plot comparing the mean % of confident predictions for both under bets and over bets. Blue is for over bets, and orange is for under bets."
   ]
  },
  {
   "cell_type": "code",
   "execution_count": 477,
   "metadata": {},
   "outputs": [
    {
     "data": {
      "image/png": "[encoded data removed]",
      "text/plain": [
       "<matplotlib.figure.Figure at 0x1a3548b080>"
      ]
     },
     "metadata": {},
     "output_type": "display_data"
    }
   ],
   "source": [
    "plt.figure(figsize=(12,6))\n",
    "plt.plot(over_winnings_dict.values())\n",
    "plt.xticks(np.arange(16), rounded_labels_over)\n",
    "ax2 = plt.twinx()\n",
    "ax2.plot(under_winnings_dict.values(), c='orange')\n",
    "ax2.axhline(0.54, dashes=dashes, c='black');"
   ]
  },
  {
   "cell_type": "code",
   "execution_count": 389,
   "metadata": {},
   "outputs": [
    {
     "data": {
      "text/html": [
       "<div>\n",
       "<style scoped>\n",
       "    .dataframe tbody tr th:only-of-type {\n",
       "        vertical-align: middle;\n",
       "    }\n",
       "\n",
       "    .dataframe tbody tr th {\n",
       "        vertical-align: top;\n",
       "    }\n",
       "\n",
       "    .dataframe thead th {\n",
       "        text-align: right;\n",
       "    }\n",
       "</style>\n",
       "<table border=\"1\" class=\"dataframe\">\n",
       "  <thead>\n",
       "    <tr style=\"text-align: right;\">\n",
       "      <th></th>\n",
       "      <th>0</th>\n",
       "    </tr>\n",
       "  </thead>\n",
       "  <tbody>\n",
       "    <tr>\n",
       "      <th>ft_1_3_opp</th>\n",
       "      <td>0.191880</td>\n",
       "    </tr>\n",
       "    <tr>\n",
       "      <th>ft_1_3</th>\n",
       "      <td>0.191880</td>\n",
       "    </tr>\n",
       "    <tr>\n",
       "      <th>fga_1_1_opp</th>\n",
       "      <td>0.187466</td>\n",
       "    </tr>\n",
       "    <tr>\n",
       "      <th>fga_1_1</th>\n",
       "      <td>0.187465</td>\n",
       "    </tr>\n",
       "    <tr>\n",
       "      <th>fg%_1_1</th>\n",
       "      <td>0.169257</td>\n",
       "    </tr>\n",
       "    <tr>\n",
       "      <th>fg%_1_1_opp</th>\n",
       "      <td>0.169257</td>\n",
       "    </tr>\n",
       "    <tr>\n",
       "      <th>off_rating_2_1</th>\n",
       "      <td>0.157702</td>\n",
       "    </tr>\n",
       "    <tr>\n",
       "      <th>off_rating_2_1_opp</th>\n",
       "      <td>0.157702</td>\n",
       "    </tr>\n",
       "    <tr>\n",
       "      <th>fg%_2_2_opp</th>\n",
       "      <td>0.156540</td>\n",
       "    </tr>\n",
       "    <tr>\n",
       "      <th>fg%_2_2</th>\n",
       "      <td>0.156539</td>\n",
       "    </tr>\n",
       "  </tbody>\n",
       "</table>\n",
       "</div>"
      ],
      "text/plain": [
       "                           0\n",
       "ft_1_3_opp          0.191880\n",
       "ft_1_3              0.191880\n",
       "fga_1_1_opp         0.187466\n",
       "fga_1_1             0.187465\n",
       "fg%_1_1             0.169257\n",
       "fg%_1_1_opp         0.169257\n",
       "off_rating_2_1      0.157702\n",
       "off_rating_2_1_opp  0.157702\n",
       "fg%_2_2_opp         0.156540\n",
       "fg%_2_2             0.156539"
      ]
     },
     "execution_count": 389,
     "metadata": {},
     "output_type": "execute_result"
    }
   ],
   "source": [
    "selectfromcols = X_train.columns[gs_from_model_under.best_estimator_.named_steps['frommodel'].get_support()]\n",
    "\n",
    "selectfrom_coef = gs_from_model_under.best_estimator_.named_steps['logreg'].coef_\n",
    "\n",
    "pd.DataFrame(selectfrom_coef, columns=selectfromcols).T.sort_values(0, ascending=False).head(10)"
   ]
  },
  {
   "cell_type": "code",
   "execution_count": 388,
   "metadata": {},
   "outputs": [
    {
     "data": {
      "text/html": [
       "<div>\n",
       "<style scoped>\n",
       "    .dataframe tbody tr th:only-of-type {\n",
       "        vertical-align: middle;\n",
       "    }\n",
       "\n",
       "    .dataframe tbody tr th {\n",
       "        vertical-align: top;\n",
       "    }\n",
       "\n",
       "    .dataframe thead th {\n",
       "        text-align: right;\n",
       "    }\n",
       "</style>\n",
       "<table border=\"1\" class=\"dataframe\">\n",
       "  <thead>\n",
       "    <tr style=\"text-align: right;\">\n",
       "      <th></th>\n",
       "      <th>0</th>\n",
       "    </tr>\n",
       "  </thead>\n",
       "  <tbody>\n",
       "    <tr>\n",
       "      <th>fg_1_1</th>\n",
       "      <td>-0.131059</td>\n",
       "    </tr>\n",
       "    <tr>\n",
       "      <th>fg_1_1_opp</th>\n",
       "      <td>-0.131059</td>\n",
       "    </tr>\n",
       "    <tr>\n",
       "      <th>fta_2_3_opp</th>\n",
       "      <td>-0.155140</td>\n",
       "    </tr>\n",
       "    <tr>\n",
       "      <th>fta_2_3</th>\n",
       "      <td>-0.155140</td>\n",
       "    </tr>\n",
       "    <tr>\n",
       "      <th>game_total_score_1_opp</th>\n",
       "      <td>-0.159005</td>\n",
       "    </tr>\n",
       "    <tr>\n",
       "      <th>game_total_score_1</th>\n",
       "      <td>-0.159005</td>\n",
       "    </tr>\n",
       "    <tr>\n",
       "      <th>pts_2_1</th>\n",
       "      <td>-0.178305</td>\n",
       "    </tr>\n",
       "    <tr>\n",
       "      <th>pts_2_1_opp</th>\n",
       "      <td>-0.178306</td>\n",
       "    </tr>\n",
       "    <tr>\n",
       "      <th>fta_1_3</th>\n",
       "      <td>-0.219725</td>\n",
       "    </tr>\n",
       "    <tr>\n",
       "      <th>fta_1_3_opp</th>\n",
       "      <td>-0.219725</td>\n",
       "    </tr>\n",
       "  </tbody>\n",
       "</table>\n",
       "</div>"
      ],
      "text/plain": [
       "                               0\n",
       "fg_1_1                 -0.131059\n",
       "fg_1_1_opp             -0.131059\n",
       "fta_2_3_opp            -0.155140\n",
       "fta_2_3                -0.155140\n",
       "game_total_score_1_opp -0.159005\n",
       "game_total_score_1     -0.159005\n",
       "pts_2_1                -0.178305\n",
       "pts_2_1_opp            -0.178306\n",
       "fta_1_3                -0.219725\n",
       "fta_1_3_opp            -0.219725"
      ]
     },
     "execution_count": 388,
     "metadata": {},
     "output_type": "execute_result"
    }
   ],
   "source": [
    "pd.DataFrame(selectfrom_coef, columns=selectfromcols).T.sort_values(0, ascending=False).tail(10)"
   ]
  },
  {
   "cell_type": "code",
   "execution_count": 386,
   "metadata": {},
   "outputs": [
    {
     "data": {
      "text/plain": [
       "228"
      ]
     },
     "execution_count": 386,
     "metadata": {},
     "output_type": "execute_result"
    }
   ],
   "source": [
    "len(selectfromcols)"
   ]
  },
  {
   "cell_type": "markdown",
   "metadata": {},
   "source": [
    "My final model has 228 features"
   ]
  },
  {
   "cell_type": "markdown",
   "metadata": {},
   "source": [
    "### Modeling Conclusions"
   ]
  },
  {
   "cell_type": "code",
   "execution_count": 306,
   "metadata": {},
   "outputs": [
    {
     "data": {
      "text/plain": [
       "192"
      ]
     },
     "execution_count": 306,
     "metadata": {},
     "output_type": "execute_result"
    }
   ],
   "source": [
    "sum(fm_bet_under)"
   ]
  },
  {
   "cell_type": "code",
   "execution_count": 307,
   "metadata": {},
   "outputs": [
    {
     "data": {
      "text/plain": [
       "138"
      ]
     },
     "execution_count": 307,
     "metadata": {},
     "output_type": "execute_result"
    }
   ],
   "source": [
    "sum(fm_bet_over)"
   ]
  },
  {
   "cell_type": "code",
   "execution_count": 223,
   "metadata": {},
   "outputs": [],
   "source": [
    "fm_confident_under = y_test_under[fm_bet_under]"
   ]
  },
  {
   "cell_type": "code",
   "execution_count": 230,
   "metadata": {},
   "outputs": [],
   "source": [
    "fm_confident_over = y_test_over[fm_bet_over]"
   ]
  },
  {
   "cell_type": "code",
   "execution_count": 248,
   "metadata": {},
   "outputs": [],
   "source": [
    "fm_confident_over = fm_confident_over.rename('bet_won_over_pred')"
   ]
  },
  {
   "cell_type": "code",
   "execution_count": 262,
   "metadata": {},
   "outputs": [],
   "source": [
    "fm_confident_under = fm_confident_under.rename('bet_won_under_pred')"
   ]
  },
  {
   "cell_type": "code",
   "execution_count": 311,
   "metadata": {},
   "outputs": [],
   "source": [
    "games_to_bet = pd.concat([y_test_over, y_test_under], axis=1)"
   ]
  },
  {
   "cell_type": "code",
   "execution_count": 312,
   "metadata": {},
   "outputs": [],
   "source": [
    "games_to_bet['bet_over'] = list(map(int, fm_bet_over))\n",
    "games_to_bet['bet_under'] = list(map(int, fm_bet_under))"
   ]
  },
  {
   "cell_type": "code",
   "execution_count": 313,
   "metadata": {},
   "outputs": [],
   "source": [
    "games_to_bet['bet_either'] = list((games_to_bet['bet_over']==1) | (games_to_bet['bet_under']==1))"
   ]
  },
  {
   "cell_type": "code",
   "execution_count": 327,
   "metadata": {},
   "outputs": [],
   "source": [
    "games_to_bet.drop(labels=[x for x in games_to_bet.index if x%2], inplace=True)"
   ]
  },
  {
   "cell_type": "code",
   "execution_count": 328,
   "metadata": {},
   "outputs": [
    {
     "data": {
      "text/html": [
       "<div>\n",
       "<style scoped>\n",
       "    .dataframe tbody tr th:only-of-type {\n",
       "        vertical-align: middle;\n",
       "    }\n",
       "\n",
       "    .dataframe tbody tr th {\n",
       "        vertical-align: top;\n",
       "    }\n",
       "\n",
       "    .dataframe thead th {\n",
       "        text-align: right;\n",
       "    }\n",
       "</style>\n",
       "<table border=\"1\" class=\"dataframe\">\n",
       "  <thead>\n",
       "    <tr style=\"text-align: right;\">\n",
       "      <th></th>\n",
       "      <th>bet_won_over</th>\n",
       "      <th>bet_won_under</th>\n",
       "      <th>bet_over</th>\n",
       "      <th>bet_under</th>\n",
       "      <th>bet_either</th>\n",
       "    </tr>\n",
       "  </thead>\n",
       "  <tbody>\n",
       "    <tr>\n",
       "      <th>1262</th>\n",
       "      <td>0</td>\n",
       "      <td>1</td>\n",
       "      <td>0</td>\n",
       "      <td>0</td>\n",
       "      <td>False</td>\n",
       "    </tr>\n",
       "    <tr>\n",
       "      <th>1266</th>\n",
       "      <td>0</td>\n",
       "      <td>1</td>\n",
       "      <td>1</td>\n",
       "      <td>0</td>\n",
       "      <td>True</td>\n",
       "    </tr>\n",
       "    <tr>\n",
       "      <th>1270</th>\n",
       "      <td>0</td>\n",
       "      <td>1</td>\n",
       "      <td>0</td>\n",
       "      <td>0</td>\n",
       "      <td>False</td>\n",
       "    </tr>\n",
       "    <tr>\n",
       "      <th>1274</th>\n",
       "      <td>1</td>\n",
       "      <td>0</td>\n",
       "      <td>0</td>\n",
       "      <td>0</td>\n",
       "      <td>False</td>\n",
       "    </tr>\n",
       "    <tr>\n",
       "      <th>1278</th>\n",
       "      <td>1</td>\n",
       "      <td>0</td>\n",
       "      <td>0</td>\n",
       "      <td>0</td>\n",
       "      <td>False</td>\n",
       "    </tr>\n",
       "  </tbody>\n",
       "</table>\n",
       "</div>"
      ],
      "text/plain": [
       "      bet_won_over  bet_won_under  bet_over  bet_under  bet_either\n",
       "1262             0              1         0          0       False\n",
       "1266             0              1         1          0        True\n",
       "1270             0              1         0          0       False\n",
       "1274             1              0         0          0       False\n",
       "1278             1              0         0          0       False"
      ]
     },
     "execution_count": 328,
     "metadata": {},
     "output_type": "execute_result"
    }
   ],
   "source": [
    "games_to_bet.head()"
   ]
  },
  {
   "cell_type": "code",
   "execution_count": 329,
   "metadata": {},
   "outputs": [],
   "source": [
    "bets = games_to_bet[games_to_bet['bet_either'] == 1].copy()"
   ]
  },
  {
   "cell_type": "code",
   "execution_count": 330,
   "metadata": {},
   "outputs": [],
   "source": [
    "bets.drop('bet_either', 1, inplace=True)"
   ]
  },
  {
   "cell_type": "code",
   "execution_count": 478,
   "metadata": {},
   "outputs": [],
   "source": [
    "betting_sets = bets.to_records(index=False)"
   ]
  },
  {
   "cell_type": "markdown",
   "metadata": {},
   "source": [
    "### Simulation"
   ]
  },
  {
   "cell_type": "markdown",
   "metadata": {},
   "source": [
    "Below is a simulation I created to test how well someone could do if they bet a fixed amount of money (200 dollars) on every game where I predicted a \"confident\" outcome. These bets return 190 if they hit (bookkeapers typically return 100 dollars for a bet of 105). So, for every game with a confident prediction, you win 190 dollars for a correct prediction, and lose 200 dollars for an incorrect prediction."
   ]
  },
  {
   "cell_type": "code",
   "execution_count": 479,
   "metadata": {
    "scrolled": true
   },
   "outputs": [
    {
     "name": "stdout",
     "output_type": "stream",
     "text": [
      "12880\n"
     ]
    }
   ],
   "source": [
    "pot = 10000\n",
    "running_total = []\n",
    "for game in betting_sets:\n",
    "    if game[2] and game[0]:\n",
    "        pot += 190\n",
    "    if game[2] and not game[0]:\n",
    "        pot -= 200\n",
    "    if game[3] and game[1]:\n",
    "        pot += 190\n",
    "    if game[3] and not game[1]:\n",
    "        pot -= 200\n",
    "    if pot <= 0:\n",
    "        break\n",
    "    running_total.append(pot)\n",
    "print(pot)"
   ]
  },
  {
   "cell_type": "code",
   "execution_count": 481,
   "metadata": {},
   "outputs": [
    {
     "data": {
      "image/png": "[encoded data removed]",
      "text/plain": [
       "<matplotlib.figure.Figure at 0x1a35486e80>"
      ]
     },
     "metadata": {},
     "output_type": "display_data"
    }
   ],
   "source": [
    "plt.plot(running_total)\n",
    "plt.title('Simulation of betting strategy for 2018 season')\n",
    "plt.xlabel('Total bankroll')\n",
    "plt.ylabel('# of games bet');"
   ]
  },
  {
   "cell_type": "code",
   "execution_count": 297,
   "metadata": {},
   "outputs": [
    {
     "data": {
      "text/html": [
       "<div>\n",
       "<style scoped>\n",
       "    .dataframe tbody tr th:only-of-type {\n",
       "        vertical-align: middle;\n",
       "    }\n",
       "\n",
       "    .dataframe tbody tr th {\n",
       "        vertical-align: top;\n",
       "    }\n",
       "\n",
       "    .dataframe thead th {\n",
       "        text-align: right;\n",
       "    }\n",
       "</style>\n",
       "<table border=\"1\" class=\"dataframe\">\n",
       "  <thead>\n",
       "    <tr style=\"text-align: right;\">\n",
       "      <th></th>\n",
       "      <th>bet_won_over</th>\n",
       "      <th>bet_won_under</th>\n",
       "      <th>bet_over</th>\n",
       "      <th>bet_under</th>\n",
       "    </tr>\n",
       "  </thead>\n",
       "  <tbody>\n",
       "    <tr>\n",
       "      <th>count</th>\n",
       "      <td>330.00000</td>\n",
       "      <td>330.00000</td>\n",
       "      <td>330.000000</td>\n",
       "      <td>330.000000</td>\n",
       "    </tr>\n",
       "    <tr>\n",
       "      <th>mean</th>\n",
       "      <td>0.49697</td>\n",
       "      <td>0.49697</td>\n",
       "      <td>0.418182</td>\n",
       "      <td>0.581818</td>\n",
       "    </tr>\n",
       "    <tr>\n",
       "      <th>std</th>\n",
       "      <td>0.50075</td>\n",
       "      <td>0.50075</td>\n",
       "      <td>0.494009</td>\n",
       "      <td>0.494009</td>\n",
       "    </tr>\n",
       "    <tr>\n",
       "      <th>min</th>\n",
       "      <td>0.00000</td>\n",
       "      <td>0.00000</td>\n",
       "      <td>0.000000</td>\n",
       "      <td>0.000000</td>\n",
       "    </tr>\n",
       "    <tr>\n",
       "      <th>25%</th>\n",
       "      <td>0.00000</td>\n",
       "      <td>0.00000</td>\n",
       "      <td>0.000000</td>\n",
       "      <td>0.000000</td>\n",
       "    </tr>\n",
       "    <tr>\n",
       "      <th>50%</th>\n",
       "      <td>0.00000</td>\n",
       "      <td>0.00000</td>\n",
       "      <td>0.000000</td>\n",
       "      <td>1.000000</td>\n",
       "    </tr>\n",
       "    <tr>\n",
       "      <th>75%</th>\n",
       "      <td>1.00000</td>\n",
       "      <td>1.00000</td>\n",
       "      <td>1.000000</td>\n",
       "      <td>1.000000</td>\n",
       "    </tr>\n",
       "    <tr>\n",
       "      <th>max</th>\n",
       "      <td>1.00000</td>\n",
       "      <td>1.00000</td>\n",
       "      <td>1.000000</td>\n",
       "      <td>1.000000</td>\n",
       "    </tr>\n",
       "  </tbody>\n",
       "</table>\n",
       "</div>"
      ],
      "text/plain": [
       "       bet_won_over  bet_won_under    bet_over   bet_under\n",
       "count     330.00000      330.00000  330.000000  330.000000\n",
       "mean        0.49697        0.49697    0.418182    0.581818\n",
       "std         0.50075        0.50075    0.494009    0.494009\n",
       "min         0.00000        0.00000    0.000000    0.000000\n",
       "25%         0.00000        0.00000    0.000000    0.000000\n",
       "50%         0.00000        0.00000    0.000000    1.000000\n",
       "75%         1.00000        1.00000    1.000000    1.000000\n",
       "max         1.00000        1.00000    1.000000    1.000000"
      ]
     },
     "execution_count": 297,
     "metadata": {},
     "output_type": "execute_result"
    }
   ],
   "source": [
    "games_to_bet[games_to_bet.bet_either == True].describe()"
   ]
  }
 ],
 "metadata": {
  "kernelspec": {
   "display_name": "Python 3",
   "language": "python",
   "name": "python3"
  },
  "language_info": {
   "codemirror_mode": {
    "name": "ipython",
    "version": 3
   },
   "file_extension": ".py",
   "mimetype": "text/x-python",
   "name": "python",
   "nbconvert_exporter": "python",
   "pygments_lexer": "ipython3",
   "version": "3.6.4"
  }
 },
 "nbformat": 4,
 "nbformat_minor": 2
}
