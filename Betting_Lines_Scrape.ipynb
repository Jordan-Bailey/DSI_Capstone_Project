{
 "cells": [
  {
   "cell_type": "markdown",
   "metadata": {},
   "source": [
    "## Betting Lines Scrape"
   ]
  },
  {
   "cell_type": "markdown",
   "metadata": {},
   "source": [
    "This notebook's primary function is to scrape the website sportsbookreview.com for gambling lines (both totals and spreads) corresponding to each game in the 2014-2018 NBA seasons. I took the data previously collected from basketball-reference.com, and used the dates when games were played to query the website and collect each day's betting lines. I then put this historical data in a JSON file."
   ]
  },
  {
   "cell_type": "code",
   "execution_count": 1,
   "metadata": {},
   "outputs": [],
   "source": [
    "import json\n",
    "import requests\n",
    "from bs4 import BeautifulSoup\n",
    "import time\n",
    "import csv\n",
    "import pandas as pd"
   ]
  },
  {
   "cell_type": "markdown",
   "metadata": {},
   "source": [
    "#### dataframe_loader: \n",
    "\n",
    "- returns a dataframe containing one years games from a list of jsons containing each teams games for the season"
   ]
  },
  {
   "cell_type": "code",
   "execution_count": 2,
   "metadata": {},
   "outputs": [],
   "source": [
    "def dataframe_loader(years_games):\n",
    "    years_stats = []\n",
    "    for game in years_games:\n",
    "        with open(f'{game}') as g:\n",
    "            years_stats.append(json.load(g))\n",
    "    all_games_year = [team for game_list in years_stats for game in game_list for team in game]\n",
    "    df_year = pd.DataFrame(all_games_year)\n",
    "    return df_year"
   ]
  },
  {
   "cell_type": "code",
   "execution_count": 3,
   "metadata": {},
   "outputs": [],
   "source": [
    "gl_2014 = !ls *_2014.json\n",
    "gl_2015 = !ls *_2015.json\n",
    "gl_2016 = !ls *_2016.json\n",
    "gl_2017 = !ls *_2017.json\n",
    "gl_2018 = !ls *_2018.json"
   ]
  },
  {
   "cell_type": "code",
   "execution_count": 4,
   "metadata": {},
   "outputs": [],
   "source": [
    "df_2014 = dataframe_loader(gl_2014)\n",
    "df_2015 = dataframe_loader(gl_2015)\n",
    "df_2016 = dataframe_loader(gl_2016)\n",
    "df_2017 = dataframe_loader(gl_2017)\n",
    "df_2018 = dataframe_loader(gl_2018)\n",
    "\n"
   ]
  },
  {
   "cell_type": "code",
   "execution_count": 7,
   "metadata": {},
   "outputs": [],
   "source": [
    "df_all = df_2014.append([df_2015, df_2016, df_2017, df_2018], ignore_index=True)"
   ]
  },
  {
   "cell_type": "code",
   "execution_count": 9,
   "metadata": {},
   "outputs": [],
   "source": [
    "df_all['date'] = df_all[0].map(lambda x: x[:8])"
   ]
  },
  {
   "cell_type": "code",
   "execution_count": 13,
   "metadata": {},
   "outputs": [
    {
     "data": {
      "text/html": [
       "<div>\n",
       "<style scoped>\n",
       "    .dataframe tbody tr th:only-of-type {\n",
       "        vertical-align: middle;\n",
       "    }\n",
       "\n",
       "    .dataframe tbody tr th {\n",
       "        vertical-align: top;\n",
       "    }\n",
       "\n",
       "    .dataframe thead th {\n",
       "        text-align: right;\n",
       "    }\n",
       "</style>\n",
       "<table border=\"1\" class=\"dataframe\">\n",
       "  <thead>\n",
       "    <tr style=\"text-align: right;\">\n",
       "      <th></th>\n",
       "      <th>0</th>\n",
       "      <th>1</th>\n",
       "      <th>2</th>\n",
       "      <th>3</th>\n",
       "      <th>4</th>\n",
       "      <th>5</th>\n",
       "      <th>6</th>\n",
       "      <th>7</th>\n",
       "      <th>8</th>\n",
       "      <th>9</th>\n",
       "      <th>...</th>\n",
       "      <th>13</th>\n",
       "      <th>14</th>\n",
       "      <th>15</th>\n",
       "      <th>16</th>\n",
       "      <th>17</th>\n",
       "      <th>18</th>\n",
       "      <th>19</th>\n",
       "      <th>20</th>\n",
       "      <th>21</th>\n",
       "      <th>date</th>\n",
       "    </tr>\n",
       "  </thead>\n",
       "  <tbody>\n",
       "    <tr>\n",
       "      <th>0</th>\n",
       "      <td>201311010ATL</td>\n",
       "      <td>TOR</td>\n",
       "      <td>away</td>\n",
       "      <td>240</td>\n",
       "      <td>40</td>\n",
       "      <td>88</td>\n",
       "      <td>.455</td>\n",
       "      <td>7</td>\n",
       "      <td>23</td>\n",
       "      <td>.304</td>\n",
       "      <td>...</td>\n",
       "      <td>10</td>\n",
       "      <td>32</td>\n",
       "      <td>42</td>\n",
       "      <td>15</td>\n",
       "      <td>5</td>\n",
       "      <td>6</td>\n",
       "      <td>12</td>\n",
       "      <td>25</td>\n",
       "      <td>95</td>\n",
       "      <td>20131101</td>\n",
       "    </tr>\n",
       "    <tr>\n",
       "      <th>1</th>\n",
       "      <td>201311010ATL</td>\n",
       "      <td>ATL</td>\n",
       "      <td>home</td>\n",
       "      <td>240</td>\n",
       "      <td>36</td>\n",
       "      <td>77</td>\n",
       "      <td>.468</td>\n",
       "      <td>10</td>\n",
       "      <td>23</td>\n",
       "      <td>.435</td>\n",
       "      <td>...</td>\n",
       "      <td>7</td>\n",
       "      <td>30</td>\n",
       "      <td>37</td>\n",
       "      <td>24</td>\n",
       "      <td>7</td>\n",
       "      <td>3</td>\n",
       "      <td>13</td>\n",
       "      <td>12</td>\n",
       "      <td>102</td>\n",
       "      <td>20131101</td>\n",
       "    </tr>\n",
       "    <tr>\n",
       "      <th>2</th>\n",
       "      <td>201311090ATL</td>\n",
       "      <td>ORL</td>\n",
       "      <td>away</td>\n",
       "      <td>240</td>\n",
       "      <td>38</td>\n",
       "      <td>82</td>\n",
       "      <td>.463</td>\n",
       "      <td>8</td>\n",
       "      <td>17</td>\n",
       "      <td>.471</td>\n",
       "      <td>...</td>\n",
       "      <td>9</td>\n",
       "      <td>27</td>\n",
       "      <td>36</td>\n",
       "      <td>22</td>\n",
       "      <td>9</td>\n",
       "      <td>2</td>\n",
       "      <td>17</td>\n",
       "      <td>24</td>\n",
       "      <td>94</td>\n",
       "      <td>20131109</td>\n",
       "    </tr>\n",
       "    <tr>\n",
       "      <th>3</th>\n",
       "      <td>201311090ATL</td>\n",
       "      <td>ATL</td>\n",
       "      <td>home</td>\n",
       "      <td>240</td>\n",
       "      <td>43</td>\n",
       "      <td>90</td>\n",
       "      <td>.478</td>\n",
       "      <td>6</td>\n",
       "      <td>19</td>\n",
       "      <td>.316</td>\n",
       "      <td>...</td>\n",
       "      <td>7</td>\n",
       "      <td>32</td>\n",
       "      <td>39</td>\n",
       "      <td>36</td>\n",
       "      <td>9</td>\n",
       "      <td>6</td>\n",
       "      <td>12</td>\n",
       "      <td>15</td>\n",
       "      <td>104</td>\n",
       "      <td>20131109</td>\n",
       "    </tr>\n",
       "    <tr>\n",
       "      <th>4</th>\n",
       "      <td>201311130ATL</td>\n",
       "      <td>NYK</td>\n",
       "      <td>away</td>\n",
       "      <td>240</td>\n",
       "      <td>37</td>\n",
       "      <td>88</td>\n",
       "      <td>.420</td>\n",
       "      <td>12</td>\n",
       "      <td>34</td>\n",
       "      <td>.353</td>\n",
       "      <td>...</td>\n",
       "      <td>8</td>\n",
       "      <td>29</td>\n",
       "      <td>37</td>\n",
       "      <td>24</td>\n",
       "      <td>11</td>\n",
       "      <td>3</td>\n",
       "      <td>3</td>\n",
       "      <td>19</td>\n",
       "      <td>95</td>\n",
       "      <td>20131113</td>\n",
       "    </tr>\n",
       "  </tbody>\n",
       "</table>\n",
       "<p>5 rows × 23 columns</p>\n",
       "</div>"
      ],
      "text/plain": [
       "              0    1     2    3   4   5     6   7   8     9    ...     13  14  \\\n",
       "0  201311010ATL  TOR  away  240  40  88  .455   7  23  .304    ...     10  32   \n",
       "1  201311010ATL  ATL  home  240  36  77  .468  10  23  .435    ...      7  30   \n",
       "2  201311090ATL  ORL  away  240  38  82  .463   8  17  .471    ...      9  27   \n",
       "3  201311090ATL  ATL  home  240  43  90  .478   6  19  .316    ...      7  32   \n",
       "4  201311130ATL  NYK  away  240  37  88  .420  12  34  .353    ...      8  29   \n",
       "\n",
       "   15  16  17 18  19  20   21      date  \n",
       "0  42  15   5  6  12  25   95  20131101  \n",
       "1  37  24   7  3  13  12  102  20131101  \n",
       "2  36  22   9  2  17  24   94  20131109  \n",
       "3  39  36   9  6  12  15  104  20131109  \n",
       "4  37  24  11  3   3  19   95  20131113  \n",
       "\n",
       "[5 rows x 23 columns]"
      ]
     },
     "execution_count": 13,
     "metadata": {},
     "output_type": "execute_result"
    }
   ],
   "source": [
    "df_all.head()"
   ]
  },
  {
   "cell_type": "code",
   "execution_count": 11,
   "metadata": {},
   "outputs": [],
   "source": [
    "date_list = [date for date in df_all['date'].unique()]"
   ]
  },
  {
   "cell_type": "code",
   "execution_count": 12,
   "metadata": {},
   "outputs": [
    {
     "data": {
      "text/plain": [
       "816"
      ]
     },
     "execution_count": 12,
     "metadata": {},
     "output_type": "execute_result"
    }
   ],
   "source": [
    "len(date_list)"
   ]
  },
  {
   "cell_type": "markdown",
   "metadata": {},
   "source": [
    "#### get_betting_lines: \n",
    "- Function takes in a date, queries sportsbookreview.com for the corresponding page, and returns the day's betting lines labeled by team"
   ]
  },
  {
   "cell_type": "code",
   "execution_count": 62,
   "metadata": {},
   "outputs": [],
   "source": [
    "def get_betting_lines(date):\n",
    "    info_list = []\n",
    "    betting_page = requests.get(f'https://www.sportsbookreview.com/betting-odds/nba-basketball/merged/?date={date}')\n",
    "    time.sleep(2)\n",
    "    betting_page = BeautifulSoup(betting_page.text, 'html.parser')\n",
    "    teams_list = []\n",
    "    for row in betting_page.find_all('div', {'class': 'eventLine-value'}):\n",
    "        teams_list.append(row.text)\n",
    "    betting_lines = []\n",
    "    for item in betting_page.find_all('div', {'class': 'event-holder holder-complete'}):\n",
    "        for line in item.find('div', {'class': 'el-div eventLine-book'}):\n",
    "            betting_lines.append(line.text)\n",
    "    betting_lines = [line.replace('\\xa0', ' ') for line in betting_lines]\n",
    "    \n",
    "    date_list = [date for item in betting_lines]\n",
    "    zipped_teams_lines = zip(date_list, teams_list, betting_lines)\n",
    "    return list(zipped_teams_lines)"
   ]
  },
  {
   "cell_type": "code",
   "execution_count": 65,
   "metadata": {},
   "outputs": [],
   "source": [
    "all_lines = []\n",
    "for date in date_list:\n",
    "    all_lines.append(get_betting_lines(date))\n",
    "    "
   ]
  },
  {
   "cell_type": "code",
   "execution_count": 72,
   "metadata": {},
   "outputs": [],
   "source": [
    "with open('all_gambling_lines.json', 'w') as f:\n",
    "    json.dump(all_lines, f)"
   ]
  },
  {
   "cell_type": "code",
   "execution_count": null,
   "metadata": {},
   "outputs": [],
   "source": []
  }
 ],
 "metadata": {
  "kernelspec": {
   "display_name": "Python 3",
   "language": "python",
   "name": "python3"
  },
  "language_info": {
   "codemirror_mode": {
    "name": "ipython",
    "version": 3
   },
   "file_extension": ".py",
   "mimetype": "text/x-python",
   "name": "python",
   "nbconvert_exporter": "python",
   "pygments_lexer": "ipython3",
   "version": "3.6.4"
  }
 },
 "nbformat": 4,
 "nbformat_minor": 2
}
