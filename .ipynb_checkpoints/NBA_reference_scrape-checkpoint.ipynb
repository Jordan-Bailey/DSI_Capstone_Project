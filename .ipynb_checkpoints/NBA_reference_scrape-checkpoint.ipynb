{
 "cells": [
  {
   "cell_type": "code",
   "execution_count": 1,
   "metadata": {},
   "outputs": [],
   "source": [
    "import json\n",
    "import requests\n",
    "from bs4 import BeautifulSoup\n",
    "import time\n",
    "import csv"
   ]
  },
  {
   "cell_type": "code",
   "execution_count": 15,
   "metadata": {},
   "outputs": [],
   "source": [
    "years_grabbed = ['2014']"
   ]
  },
  {
   "cell_type": "code",
   "execution_count": 19,
   "metadata": {},
   "outputs": [],
   "source": [
    "team_handles_dict = {'Toronto Raptors': 'TOR',\n",
    "                     'Boston Celtics': 'BOS',\n",
    "                     'Philadelphia 76ers': 'PHI',\n",
    "                     'Cleveland Cavaliers': 'CLE',\n",
    "                     'Indiana Pacers': 'IND',\n",
    "                     'Miami Heat': 'MIA',\n",
    "                     'Milwaukee Bucks': 'MIL',\n",
    "                     'Washington Wizards': 'WAS',\n",
    "                     'Detroit Pistons': 'DET',\n",
    "                     #'Charlotte Hornets': 'CHO',\n",
    "                     'Charlotte Bobcats': 'CHA',\n",
    "                     'New York Knicks': 'NYK',\n",
    "                     'Brooklyn Nets': 'BRK',\n",
    "                     'Chicago Bulls': 'CHI',\n",
    "                     'Orlando Magic': 'ORL',\n",
    "                     'Atlanta Hawks': 'ATL',\n",
    "                     'Houston Rockets': 'HOU',\n",
    "                     'Golden State Warriors': 'GSW',\n",
    "                     'Portland Trail Blazers': 'POR',\n",
    "                     'Oklahoma City Thunder': 'OKC',\n",
    "                     'Utah Jazz': 'UTA',\n",
    "                     'New Orleans Pelicans': 'NOP',\n",
    "                     'San Antonio Spurs': 'SAS',\n",
    "                     'Minnesota Timberwolves': 'MIN',\n",
    "                     'Denver Nuggets': 'DEN',\n",
    "                     'Los Angeles Clippers': 'LAC',\n",
    "                     'Los Angeles Lakers': 'LAL',\n",
    "                     'Sacramento Kings': 'SAC',\n",
    "                     'Dallas Mavericks': 'DAL',\n",
    "                     'Memphis Grizzlies': 'MEM',\n",
    "                     'Phoenix Suns': 'PHO'}"
   ]
  },
  {
   "cell_type": "code",
   "execution_count": 11,
   "metadata": {},
   "outputs": [],
   "source": [
    "home_away_dict = {0: 'away', 1: 'home'}\n"
   ]
  },
  {
   "cell_type": "code",
   "execution_count": 12,
   "metadata": {},
   "outputs": [],
   "source": [
    "def get_game_id_for_team(team_handle, year):\n",
    "    season_page = requests.get(f'https://www.basketball-reference.com/teams/{team_handle}/{year}_games.html')\n",
    "    season_page = BeautifulSoup(season_page.text, 'html.parser')\n",
    "    games = {}\n",
    "    for row in season_page.find('table', {'id': 'games'}).tbody.find_all('td'):\n",
    "        if row['data-stat'] == 'date_game':\n",
    "            game_date = row['csk'].replace('-', '')\n",
    "            #print(game_date)\n",
    "        if row['data-stat'] == 'game_location':\n",
    "            away = row.text\n",
    "            #print(len(away))\n",
    "            if not away:\n",
    "                games[game_date] = 'home'\n",
    "            else:\n",
    "                games[game_date] = 'away'\n",
    "    gid_list = [x + '0' + team_handle for x in games.keys() if games[x] == 'home']\n",
    "    return gid_list"
   ]
  },
  {
   "cell_type": "code",
   "execution_count": 13,
   "metadata": {},
   "outputs": [],
   "source": [
    "def get_team_stats(teams, page, gid):\n",
    "    team_stats_tables = []\n",
    "    teams_playing = []\n",
    "    for team_slug in teams:\n",
    "        team_stats_tables.append(page.find('div', attrs={'id': f'all_box_{team_slug}_basic'}).find('tfoot').find_all('td'))\n",
    "        teams_playing.append(team_slug.upper())\n",
    "    # return team_stats_tables\n",
    "    \n",
    "    game_stats = []\n",
    "    \n",
    "    for i, item in enumerate(team_stats_tables):\n",
    "        team_stats = [gid, teams_playing[i], home_away_dict[i]]\n",
    "        for row in item:\n",
    "            if row.attrs['data-stat'] != 'plus_minus':\n",
    "                team_stats.append(row.text)\n",
    "        game_stats.append(team_stats)\n",
    "    return game_stats"
   ]
  },
  {
   "cell_type": "code",
   "execution_count": 14,
   "metadata": {},
   "outputs": [],
   "source": [
    "def get_box_score_stats(gid):\n",
    "    box_score_page = requests.get(f'https://www.basketball-reference.com/boxscores/{gid}.html')\n",
    "    box_score_page = BeautifulSoup(box_score_page.text, 'html.parser')\n",
    "    bs_page_teams = []\n",
    "    for item in box_score_page.find('div', attrs={'class', 'scorebox'}).find_all('strong'):\n",
    "        team_slug = team_handles_dict[item.text.replace('\\n', '')]\n",
    "        bs_page_teams.append(team_slug.lower())\n",
    "    # team_tables = get_page_tables(bs_page_teams, box_score_page)\n",
    "    # return team_tables\n",
    "    return get_team_stats(bs_page_teams, box_score_page, gid)"
   ]
  },
  {
   "cell_type": "code",
   "execution_count": 20,
   "metadata": {},
   "outputs": [],
   "source": [
    "for year in years_grabbed:\n",
    "    for team in team_handles_dict.values():\n",
    "        gid_list = get_game_id_for_team(team, year)\n",
    "        game_stats = []\n",
    "        for gid in gid_list:\n",
    "            game_stats.append(get_box_score_stats(gid))\n",
    "            time.sleep(2)\n",
    "        with open(f'{team}_games_list_{year}.json', 'w') as f:\n",
    "            json.dump(game_stats, f)"
   ]
  },
  {
   "cell_type": "code",
   "execution_count": null,
   "metadata": {},
   "outputs": [],
   "source": []
  }
 ],
 "metadata": {
  "kernelspec": {
   "display_name": "Python 3",
   "language": "python",
   "name": "python3"
  },
  "language_info": {
   "codemirror_mode": {
    "name": "ipython",
    "version": 3
   },
   "file_extension": ".py",
   "mimetype": "text/x-python",
   "name": "python",
   "nbconvert_exporter": "python",
   "pygments_lexer": "ipython3",
   "version": "3.6.5"
  }
 },
 "nbformat": 4,
 "nbformat_minor": 2
}
